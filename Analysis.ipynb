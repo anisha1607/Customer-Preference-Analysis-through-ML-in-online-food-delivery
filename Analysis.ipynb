{
  "nbformat": 4,
  "nbformat_minor": 0,
  "metadata": {
    "colab": {
      "provenance": [],
      "collapsed_sections": []
    },
    "kernelspec": {
      "name": "python3",
      "display_name": "Python 3"
    },
    "language_info": {
      "name": "python"
    }
  },
  "cells": [
    {
      "cell_type": "code",
      "execution_count": null,
      "metadata": {
        "colab": {
          "base_uri": "https://localhost:8080/",
          "height": 852
        },
        "id": "C5ndwkBuVRCa",
        "outputId": "356afb3d-cac8-44bc-9199-d2ed0c050cb6"
      },
      "outputs": [
        {
          "output_type": "execute_result",
          "data": {
            "text/plain": [
              "     Age  Gender Marital Status Occupation  Monthly Income  \\\n",
              "0     20  Female         Single    Student       No Income   \n",
              "1     24  Female         Single    Student  Below Rs.10000   \n",
              "2     22    Male         Single    Student  Below Rs.10000   \n",
              "3     22  Female         Single    Student       No Income   \n",
              "4     22    Male         Single    Student  Below Rs.10000   \n",
              "..   ...     ...            ...        ...             ...   \n",
              "383   23  Female         Single    Student       No Income   \n",
              "384   23  Female         Single    Student       No Income   \n",
              "385   22  Female         Single    Student       No Income   \n",
              "386   23    Male         Single    Student  Below Rs.10000   \n",
              "387   23    Male         Single    Student       No Income   \n",
              "\n",
              "    Educational Qualifications  Family size  latitude  longitude  Pin code  \\\n",
              "0                Post Graduate            4   12.9766    77.5993    560001   \n",
              "1                     Graduate            3   12.9770    77.5773    560009   \n",
              "2                Post Graduate            3   12.9551    77.6593    560017   \n",
              "3                     Graduate            6   12.9473    77.5616    560019   \n",
              "4                Post Graduate            4   12.9850    77.5533    560010   \n",
              "..                         ...          ...       ...        ...       ...   \n",
              "383              Post Graduate            2   12.9766    77.5993    560001   \n",
              "384              Post Graduate            4   12.9854    77.7081    560048   \n",
              "385              Post Graduate            5   12.9850    77.5533    560010   \n",
              "386              Post Graduate            2   12.9770    77.5773    560009   \n",
              "387              Post Graduate            5   12.8988    77.5764    560078   \n",
              "\n",
              "     ...    Less Delivery time High Quality of package       Number of calls  \\\n",
              "0    ...  Moderately Important    Moderately Important  Moderately Important   \n",
              "1    ...        Very Important          Very Important        Very Important   \n",
              "2    ...             Important          Very Important  Moderately Important   \n",
              "3    ...        Very Important               Important  Moderately Important   \n",
              "4    ...             Important               Important  Moderately Important   \n",
              "..   ...                   ...                     ...                   ...   \n",
              "383  ...             Important               Important             Important   \n",
              "384  ...  Moderately Important          Very Important  Moderately Important   \n",
              "385  ...             Important          Very Important             Important   \n",
              "386  ...             Important          Very Important             Important   \n",
              "387  ...    Slightly Important             Unimportant    Slightly Important   \n",
              "\n",
              "               Politeness            Freshness            Temperature  \\\n",
              "0    Moderately Important  Moderately Important  Moderately Important   \n",
              "1          Very Important        Very Important        Very Important   \n",
              "2          Very Important        Very Important             Important   \n",
              "3          Very Important        Very Important        Very Important   \n",
              "4               Important             Important             Important   \n",
              "..                    ...                   ...                   ...   \n",
              "383             Important             Important             Important   \n",
              "384  Moderately Important  Moderately Important  Moderately Important   \n",
              "385             Important        Very Important        Very Important   \n",
              "386        Very Important        Very Important             Important   \n",
              "387  Moderately Important  Moderately Important  Moderately Important   \n",
              "\n",
              "              Good Taste          Good Quantity Output  \\\n",
              "0    Moderately Important  Moderately Important    Yes   \n",
              "1          Very Important        Very Important    Yes   \n",
              "2          Very Important  Moderately Important    Yes   \n",
              "3          Very Important             Important    Yes   \n",
              "4          Very Important        Very Important    Yes   \n",
              "..                    ...                   ...    ...   \n",
              "383             Important             Important    Yes   \n",
              "384        Very Important        Very Important    Yes   \n",
              "385        Very Important        Very Important    Yes   \n",
              "386        Very Important        Very Important    Yes   \n",
              "387  Moderately Important    Slightly Important    Yes   \n",
              "\n",
              "                                               Reviews  \n",
              "0                                                Nil\\n  \n",
              "1                                                  Nil  \n",
              "2    Many a times payment gateways are an issue, so...  \n",
              "3                                                  nil  \n",
              "4                                                  NIL  \n",
              "..                                                 ...  \n",
              "383                                                Nil  \n",
              "384                                                Nil  \n",
              "385                                                Nil  \n",
              "386  Language barrier is also one major issue. Mosl...  \n",
              "387                                                Nil  \n",
              "\n",
              "[388 rows x 55 columns]"
            ],
            "text/html": [
              "\n",
              "  <div id=\"df-22f2ce99-4246-42bb-a982-263d9e994e8b\">\n",
              "    <div class=\"colab-df-container\">\n",
              "      <div>\n",
              "<style scoped>\n",
              "    .dataframe tbody tr th:only-of-type {\n",
              "        vertical-align: middle;\n",
              "    }\n",
              "\n",
              "    .dataframe tbody tr th {\n",
              "        vertical-align: top;\n",
              "    }\n",
              "\n",
              "    .dataframe thead th {\n",
              "        text-align: right;\n",
              "    }\n",
              "</style>\n",
              "<table border=\"1\" class=\"dataframe\">\n",
              "  <thead>\n",
              "    <tr style=\"text-align: right;\">\n",
              "      <th></th>\n",
              "      <th>Age</th>\n",
              "      <th>Gender</th>\n",
              "      <th>Marital Status</th>\n",
              "      <th>Occupation</th>\n",
              "      <th>Monthly Income</th>\n",
              "      <th>Educational Qualifications</th>\n",
              "      <th>Family size</th>\n",
              "      <th>latitude</th>\n",
              "      <th>longitude</th>\n",
              "      <th>Pin code</th>\n",
              "      <th>...</th>\n",
              "      <th>Less Delivery time</th>\n",
              "      <th>High Quality of package</th>\n",
              "      <th>Number of calls</th>\n",
              "      <th>Politeness</th>\n",
              "      <th>Freshness</th>\n",
              "      <th>Temperature</th>\n",
              "      <th>Good Taste</th>\n",
              "      <th>Good Quantity</th>\n",
              "      <th>Output</th>\n",
              "      <th>Reviews</th>\n",
              "    </tr>\n",
              "  </thead>\n",
              "  <tbody>\n",
              "    <tr>\n",
              "      <th>0</th>\n",
              "      <td>20</td>\n",
              "      <td>Female</td>\n",
              "      <td>Single</td>\n",
              "      <td>Student</td>\n",
              "      <td>No Income</td>\n",
              "      <td>Post Graduate</td>\n",
              "      <td>4</td>\n",
              "      <td>12.9766</td>\n",
              "      <td>77.5993</td>\n",
              "      <td>560001</td>\n",
              "      <td>...</td>\n",
              "      <td>Moderately Important</td>\n",
              "      <td>Moderately Important</td>\n",
              "      <td>Moderately Important</td>\n",
              "      <td>Moderately Important</td>\n",
              "      <td>Moderately Important</td>\n",
              "      <td>Moderately Important</td>\n",
              "      <td>Moderately Important</td>\n",
              "      <td>Moderately Important</td>\n",
              "      <td>Yes</td>\n",
              "      <td>Nil\\n</td>\n",
              "    </tr>\n",
              "    <tr>\n",
              "      <th>1</th>\n",
              "      <td>24</td>\n",
              "      <td>Female</td>\n",
              "      <td>Single</td>\n",
              "      <td>Student</td>\n",
              "      <td>Below Rs.10000</td>\n",
              "      <td>Graduate</td>\n",
              "      <td>3</td>\n",
              "      <td>12.9770</td>\n",
              "      <td>77.5773</td>\n",
              "      <td>560009</td>\n",
              "      <td>...</td>\n",
              "      <td>Very Important</td>\n",
              "      <td>Very Important</td>\n",
              "      <td>Very Important</td>\n",
              "      <td>Very Important</td>\n",
              "      <td>Very Important</td>\n",
              "      <td>Very Important</td>\n",
              "      <td>Very Important</td>\n",
              "      <td>Very Important</td>\n",
              "      <td>Yes</td>\n",
              "      <td>Nil</td>\n",
              "    </tr>\n",
              "    <tr>\n",
              "      <th>2</th>\n",
              "      <td>22</td>\n",
              "      <td>Male</td>\n",
              "      <td>Single</td>\n",
              "      <td>Student</td>\n",
              "      <td>Below Rs.10000</td>\n",
              "      <td>Post Graduate</td>\n",
              "      <td>3</td>\n",
              "      <td>12.9551</td>\n",
              "      <td>77.6593</td>\n",
              "      <td>560017</td>\n",
              "      <td>...</td>\n",
              "      <td>Important</td>\n",
              "      <td>Very Important</td>\n",
              "      <td>Moderately Important</td>\n",
              "      <td>Very Important</td>\n",
              "      <td>Very Important</td>\n",
              "      <td>Important</td>\n",
              "      <td>Very Important</td>\n",
              "      <td>Moderately Important</td>\n",
              "      <td>Yes</td>\n",
              "      <td>Many a times payment gateways are an issue, so...</td>\n",
              "    </tr>\n",
              "    <tr>\n",
              "      <th>3</th>\n",
              "      <td>22</td>\n",
              "      <td>Female</td>\n",
              "      <td>Single</td>\n",
              "      <td>Student</td>\n",
              "      <td>No Income</td>\n",
              "      <td>Graduate</td>\n",
              "      <td>6</td>\n",
              "      <td>12.9473</td>\n",
              "      <td>77.5616</td>\n",
              "      <td>560019</td>\n",
              "      <td>...</td>\n",
              "      <td>Very Important</td>\n",
              "      <td>Important</td>\n",
              "      <td>Moderately Important</td>\n",
              "      <td>Very Important</td>\n",
              "      <td>Very Important</td>\n",
              "      <td>Very Important</td>\n",
              "      <td>Very Important</td>\n",
              "      <td>Important</td>\n",
              "      <td>Yes</td>\n",
              "      <td>nil</td>\n",
              "    </tr>\n",
              "    <tr>\n",
              "      <th>4</th>\n",
              "      <td>22</td>\n",
              "      <td>Male</td>\n",
              "      <td>Single</td>\n",
              "      <td>Student</td>\n",
              "      <td>Below Rs.10000</td>\n",
              "      <td>Post Graduate</td>\n",
              "      <td>4</td>\n",
              "      <td>12.9850</td>\n",
              "      <td>77.5533</td>\n",
              "      <td>560010</td>\n",
              "      <td>...</td>\n",
              "      <td>Important</td>\n",
              "      <td>Important</td>\n",
              "      <td>Moderately Important</td>\n",
              "      <td>Important</td>\n",
              "      <td>Important</td>\n",
              "      <td>Important</td>\n",
              "      <td>Very Important</td>\n",
              "      <td>Very Important</td>\n",
              "      <td>Yes</td>\n",
              "      <td>NIL</td>\n",
              "    </tr>\n",
              "    <tr>\n",
              "      <th>...</th>\n",
              "      <td>...</td>\n",
              "      <td>...</td>\n",
              "      <td>...</td>\n",
              "      <td>...</td>\n",
              "      <td>...</td>\n",
              "      <td>...</td>\n",
              "      <td>...</td>\n",
              "      <td>...</td>\n",
              "      <td>...</td>\n",
              "      <td>...</td>\n",
              "      <td>...</td>\n",
              "      <td>...</td>\n",
              "      <td>...</td>\n",
              "      <td>...</td>\n",
              "      <td>...</td>\n",
              "      <td>...</td>\n",
              "      <td>...</td>\n",
              "      <td>...</td>\n",
              "      <td>...</td>\n",
              "      <td>...</td>\n",
              "      <td>...</td>\n",
              "    </tr>\n",
              "    <tr>\n",
              "      <th>383</th>\n",
              "      <td>23</td>\n",
              "      <td>Female</td>\n",
              "      <td>Single</td>\n",
              "      <td>Student</td>\n",
              "      <td>No Income</td>\n",
              "      <td>Post Graduate</td>\n",
              "      <td>2</td>\n",
              "      <td>12.9766</td>\n",
              "      <td>77.5993</td>\n",
              "      <td>560001</td>\n",
              "      <td>...</td>\n",
              "      <td>Important</td>\n",
              "      <td>Important</td>\n",
              "      <td>Important</td>\n",
              "      <td>Important</td>\n",
              "      <td>Important</td>\n",
              "      <td>Important</td>\n",
              "      <td>Important</td>\n",
              "      <td>Important</td>\n",
              "      <td>Yes</td>\n",
              "      <td>Nil</td>\n",
              "    </tr>\n",
              "    <tr>\n",
              "      <th>384</th>\n",
              "      <td>23</td>\n",
              "      <td>Female</td>\n",
              "      <td>Single</td>\n",
              "      <td>Student</td>\n",
              "      <td>No Income</td>\n",
              "      <td>Post Graduate</td>\n",
              "      <td>4</td>\n",
              "      <td>12.9854</td>\n",
              "      <td>77.7081</td>\n",
              "      <td>560048</td>\n",
              "      <td>...</td>\n",
              "      <td>Moderately Important</td>\n",
              "      <td>Very Important</td>\n",
              "      <td>Moderately Important</td>\n",
              "      <td>Moderately Important</td>\n",
              "      <td>Moderately Important</td>\n",
              "      <td>Moderately Important</td>\n",
              "      <td>Very Important</td>\n",
              "      <td>Very Important</td>\n",
              "      <td>Yes</td>\n",
              "      <td>Nil</td>\n",
              "    </tr>\n",
              "    <tr>\n",
              "      <th>385</th>\n",
              "      <td>22</td>\n",
              "      <td>Female</td>\n",
              "      <td>Single</td>\n",
              "      <td>Student</td>\n",
              "      <td>No Income</td>\n",
              "      <td>Post Graduate</td>\n",
              "      <td>5</td>\n",
              "      <td>12.9850</td>\n",
              "      <td>77.5533</td>\n",
              "      <td>560010</td>\n",
              "      <td>...</td>\n",
              "      <td>Important</td>\n",
              "      <td>Very Important</td>\n",
              "      <td>Important</td>\n",
              "      <td>Important</td>\n",
              "      <td>Very Important</td>\n",
              "      <td>Very Important</td>\n",
              "      <td>Very Important</td>\n",
              "      <td>Very Important</td>\n",
              "      <td>Yes</td>\n",
              "      <td>Nil</td>\n",
              "    </tr>\n",
              "    <tr>\n",
              "      <th>386</th>\n",
              "      <td>23</td>\n",
              "      <td>Male</td>\n",
              "      <td>Single</td>\n",
              "      <td>Student</td>\n",
              "      <td>Below Rs.10000</td>\n",
              "      <td>Post Graduate</td>\n",
              "      <td>2</td>\n",
              "      <td>12.9770</td>\n",
              "      <td>77.5773</td>\n",
              "      <td>560009</td>\n",
              "      <td>...</td>\n",
              "      <td>Important</td>\n",
              "      <td>Very Important</td>\n",
              "      <td>Important</td>\n",
              "      <td>Very Important</td>\n",
              "      <td>Very Important</td>\n",
              "      <td>Important</td>\n",
              "      <td>Very Important</td>\n",
              "      <td>Very Important</td>\n",
              "      <td>Yes</td>\n",
              "      <td>Language barrier is also one major issue. Mosl...</td>\n",
              "    </tr>\n",
              "    <tr>\n",
              "      <th>387</th>\n",
              "      <td>23</td>\n",
              "      <td>Male</td>\n",
              "      <td>Single</td>\n",
              "      <td>Student</td>\n",
              "      <td>No Income</td>\n",
              "      <td>Post Graduate</td>\n",
              "      <td>5</td>\n",
              "      <td>12.8988</td>\n",
              "      <td>77.5764</td>\n",
              "      <td>560078</td>\n",
              "      <td>...</td>\n",
              "      <td>Slightly Important</td>\n",
              "      <td>Unimportant</td>\n",
              "      <td>Slightly Important</td>\n",
              "      <td>Moderately Important</td>\n",
              "      <td>Moderately Important</td>\n",
              "      <td>Moderately Important</td>\n",
              "      <td>Moderately Important</td>\n",
              "      <td>Slightly Important</td>\n",
              "      <td>Yes</td>\n",
              "      <td>Nil</td>\n",
              "    </tr>\n",
              "  </tbody>\n",
              "</table>\n",
              "<p>388 rows × 55 columns</p>\n",
              "</div>\n",
              "      <button class=\"colab-df-convert\" onclick=\"convertToInteractive('df-22f2ce99-4246-42bb-a982-263d9e994e8b')\"\n",
              "              title=\"Convert this dataframe to an interactive table.\"\n",
              "              style=\"display:none;\">\n",
              "        \n",
              "  <svg xmlns=\"http://www.w3.org/2000/svg\" height=\"24px\"viewBox=\"0 0 24 24\"\n",
              "       width=\"24px\">\n",
              "    <path d=\"M0 0h24v24H0V0z\" fill=\"none\"/>\n",
              "    <path d=\"M18.56 5.44l.94 2.06.94-2.06 2.06-.94-2.06-.94-.94-2.06-.94 2.06-2.06.94zm-11 1L8.5 8.5l.94-2.06 2.06-.94-2.06-.94L8.5 2.5l-.94 2.06-2.06.94zm10 10l.94 2.06.94-2.06 2.06-.94-2.06-.94-.94-2.06-.94 2.06-2.06.94z\"/><path d=\"M17.41 7.96l-1.37-1.37c-.4-.4-.92-.59-1.43-.59-.52 0-1.04.2-1.43.59L10.3 9.45l-7.72 7.72c-.78.78-.78 2.05 0 2.83L4 21.41c.39.39.9.59 1.41.59.51 0 1.02-.2 1.41-.59l7.78-7.78 2.81-2.81c.8-.78.8-2.07 0-2.86zM5.41 20L4 18.59l7.72-7.72 1.47 1.35L5.41 20z\"/>\n",
              "  </svg>\n",
              "      </button>\n",
              "      \n",
              "  <style>\n",
              "    .colab-df-container {\n",
              "      display:flex;\n",
              "      flex-wrap:wrap;\n",
              "      gap: 12px;\n",
              "    }\n",
              "\n",
              "    .colab-df-convert {\n",
              "      background-color: #E8F0FE;\n",
              "      border: none;\n",
              "      border-radius: 50%;\n",
              "      cursor: pointer;\n",
              "      display: none;\n",
              "      fill: #1967D2;\n",
              "      height: 32px;\n",
              "      padding: 0 0 0 0;\n",
              "      width: 32px;\n",
              "    }\n",
              "\n",
              "    .colab-df-convert:hover {\n",
              "      background-color: #E2EBFA;\n",
              "      box-shadow: 0px 1px 2px rgba(60, 64, 67, 0.3), 0px 1px 3px 1px rgba(60, 64, 67, 0.15);\n",
              "      fill: #174EA6;\n",
              "    }\n",
              "\n",
              "    [theme=dark] .colab-df-convert {\n",
              "      background-color: #3B4455;\n",
              "      fill: #D2E3FC;\n",
              "    }\n",
              "\n",
              "    [theme=dark] .colab-df-convert:hover {\n",
              "      background-color: #434B5C;\n",
              "      box-shadow: 0px 1px 3px 1px rgba(0, 0, 0, 0.15);\n",
              "      filter: drop-shadow(0px 1px 2px rgba(0, 0, 0, 0.3));\n",
              "      fill: #FFFFFF;\n",
              "    }\n",
              "  </style>\n",
              "\n",
              "      <script>\n",
              "        const buttonEl =\n",
              "          document.querySelector('#df-22f2ce99-4246-42bb-a982-263d9e994e8b button.colab-df-convert');\n",
              "        buttonEl.style.display =\n",
              "          google.colab.kernel.accessAllowed ? 'block' : 'none';\n",
              "\n",
              "        async function convertToInteractive(key) {\n",
              "          const element = document.querySelector('#df-22f2ce99-4246-42bb-a982-263d9e994e8b');\n",
              "          const dataTable =\n",
              "            await google.colab.kernel.invokeFunction('convertToInteractive',\n",
              "                                                     [key], {});\n",
              "          if (!dataTable) return;\n",
              "\n",
              "          const docLinkHtml = 'Like what you see? Visit the ' +\n",
              "            '<a target=\"_blank\" href=https://colab.research.google.com/notebooks/data_table.ipynb>data table notebook</a>'\n",
              "            + ' to learn more about interactive tables.';\n",
              "          element.innerHTML = '';\n",
              "          dataTable['output_type'] = 'display_data';\n",
              "          await google.colab.output.renderOutput(dataTable, element);\n",
              "          const docLink = document.createElement('div');\n",
              "          docLink.innerHTML = docLinkHtml;\n",
              "          element.appendChild(docLink);\n",
              "        }\n",
              "      </script>\n",
              "    </div>\n",
              "  </div>\n",
              "  "
            ]
          },
          "metadata": {},
          "execution_count": 1
        }
      ],
      "source": [
        "import numpy as np\n",
        "import pandas as pd\n",
        "\n",
        "data = pd.read_csv('data.csv')\n",
        "data"
      ]
    },
    {
      "cell_type": "code",
      "source": [
        "data.describe()"
      ],
      "metadata": {
        "colab": {
          "base_uri": "https://localhost:8080/",
          "height": 300
        },
        "id": "a32792NFETpH",
        "outputId": "61e79bab-1e1a-4a05-da13-0536262e5840"
      },
      "execution_count": null,
      "outputs": [
        {
          "output_type": "execute_result",
          "data": {
            "text/plain": [
              "              Age  Family size    latitude   longitude       Pin code\n",
              "count  388.000000   388.000000  388.000000  388.000000     388.000000\n",
              "mean    24.628866     3.280928   12.972058   77.600160  560040.113402\n",
              "std      2.975593     1.351025    0.044489    0.051354      31.399609\n",
              "min     18.000000     1.000000   12.865200   77.484200  560001.000000\n",
              "25%     23.000000     2.000000   12.936900   77.565275  560010.750000\n",
              "50%     24.000000     3.000000   12.977000   77.592100  560033.500000\n",
              "75%     26.000000     4.000000   12.997025   77.630900  560068.000000\n",
              "max     33.000000     6.000000   13.102000   77.758200  560109.000000"
            ],
            "text/html": [
              "\n",
              "  <div id=\"df-14ebb340-ee7a-4ecb-a32f-49a5603b4df4\">\n",
              "    <div class=\"colab-df-container\">\n",
              "      <div>\n",
              "<style scoped>\n",
              "    .dataframe tbody tr th:only-of-type {\n",
              "        vertical-align: middle;\n",
              "    }\n",
              "\n",
              "    .dataframe tbody tr th {\n",
              "        vertical-align: top;\n",
              "    }\n",
              "\n",
              "    .dataframe thead th {\n",
              "        text-align: right;\n",
              "    }\n",
              "</style>\n",
              "<table border=\"1\" class=\"dataframe\">\n",
              "  <thead>\n",
              "    <tr style=\"text-align: right;\">\n",
              "      <th></th>\n",
              "      <th>Age</th>\n",
              "      <th>Family size</th>\n",
              "      <th>latitude</th>\n",
              "      <th>longitude</th>\n",
              "      <th>Pin code</th>\n",
              "    </tr>\n",
              "  </thead>\n",
              "  <tbody>\n",
              "    <tr>\n",
              "      <th>count</th>\n",
              "      <td>388.000000</td>\n",
              "      <td>388.000000</td>\n",
              "      <td>388.000000</td>\n",
              "      <td>388.000000</td>\n",
              "      <td>388.000000</td>\n",
              "    </tr>\n",
              "    <tr>\n",
              "      <th>mean</th>\n",
              "      <td>24.628866</td>\n",
              "      <td>3.280928</td>\n",
              "      <td>12.972058</td>\n",
              "      <td>77.600160</td>\n",
              "      <td>560040.113402</td>\n",
              "    </tr>\n",
              "    <tr>\n",
              "      <th>std</th>\n",
              "      <td>2.975593</td>\n",
              "      <td>1.351025</td>\n",
              "      <td>0.044489</td>\n",
              "      <td>0.051354</td>\n",
              "      <td>31.399609</td>\n",
              "    </tr>\n",
              "    <tr>\n",
              "      <th>min</th>\n",
              "      <td>18.000000</td>\n",
              "      <td>1.000000</td>\n",
              "      <td>12.865200</td>\n",
              "      <td>77.484200</td>\n",
              "      <td>560001.000000</td>\n",
              "    </tr>\n",
              "    <tr>\n",
              "      <th>25%</th>\n",
              "      <td>23.000000</td>\n",
              "      <td>2.000000</td>\n",
              "      <td>12.936900</td>\n",
              "      <td>77.565275</td>\n",
              "      <td>560010.750000</td>\n",
              "    </tr>\n",
              "    <tr>\n",
              "      <th>50%</th>\n",
              "      <td>24.000000</td>\n",
              "      <td>3.000000</td>\n",
              "      <td>12.977000</td>\n",
              "      <td>77.592100</td>\n",
              "      <td>560033.500000</td>\n",
              "    </tr>\n",
              "    <tr>\n",
              "      <th>75%</th>\n",
              "      <td>26.000000</td>\n",
              "      <td>4.000000</td>\n",
              "      <td>12.997025</td>\n",
              "      <td>77.630900</td>\n",
              "      <td>560068.000000</td>\n",
              "    </tr>\n",
              "    <tr>\n",
              "      <th>max</th>\n",
              "      <td>33.000000</td>\n",
              "      <td>6.000000</td>\n",
              "      <td>13.102000</td>\n",
              "      <td>77.758200</td>\n",
              "      <td>560109.000000</td>\n",
              "    </tr>\n",
              "  </tbody>\n",
              "</table>\n",
              "</div>\n",
              "      <button class=\"colab-df-convert\" onclick=\"convertToInteractive('df-14ebb340-ee7a-4ecb-a32f-49a5603b4df4')\"\n",
              "              title=\"Convert this dataframe to an interactive table.\"\n",
              "              style=\"display:none;\">\n",
              "        \n",
              "  <svg xmlns=\"http://www.w3.org/2000/svg\" height=\"24px\"viewBox=\"0 0 24 24\"\n",
              "       width=\"24px\">\n",
              "    <path d=\"M0 0h24v24H0V0z\" fill=\"none\"/>\n",
              "    <path d=\"M18.56 5.44l.94 2.06.94-2.06 2.06-.94-2.06-.94-.94-2.06-.94 2.06-2.06.94zm-11 1L8.5 8.5l.94-2.06 2.06-.94-2.06-.94L8.5 2.5l-.94 2.06-2.06.94zm10 10l.94 2.06.94-2.06 2.06-.94-2.06-.94-.94-2.06-.94 2.06-2.06.94z\"/><path d=\"M17.41 7.96l-1.37-1.37c-.4-.4-.92-.59-1.43-.59-.52 0-1.04.2-1.43.59L10.3 9.45l-7.72 7.72c-.78.78-.78 2.05 0 2.83L4 21.41c.39.39.9.59 1.41.59.51 0 1.02-.2 1.41-.59l7.78-7.78 2.81-2.81c.8-.78.8-2.07 0-2.86zM5.41 20L4 18.59l7.72-7.72 1.47 1.35L5.41 20z\"/>\n",
              "  </svg>\n",
              "      </button>\n",
              "      \n",
              "  <style>\n",
              "    .colab-df-container {\n",
              "      display:flex;\n",
              "      flex-wrap:wrap;\n",
              "      gap: 12px;\n",
              "    }\n",
              "\n",
              "    .colab-df-convert {\n",
              "      background-color: #E8F0FE;\n",
              "      border: none;\n",
              "      border-radius: 50%;\n",
              "      cursor: pointer;\n",
              "      display: none;\n",
              "      fill: #1967D2;\n",
              "      height: 32px;\n",
              "      padding: 0 0 0 0;\n",
              "      width: 32px;\n",
              "    }\n",
              "\n",
              "    .colab-df-convert:hover {\n",
              "      background-color: #E2EBFA;\n",
              "      box-shadow: 0px 1px 2px rgba(60, 64, 67, 0.3), 0px 1px 3px 1px rgba(60, 64, 67, 0.15);\n",
              "      fill: #174EA6;\n",
              "    }\n",
              "\n",
              "    [theme=dark] .colab-df-convert {\n",
              "      background-color: #3B4455;\n",
              "      fill: #D2E3FC;\n",
              "    }\n",
              "\n",
              "    [theme=dark] .colab-df-convert:hover {\n",
              "      background-color: #434B5C;\n",
              "      box-shadow: 0px 1px 3px 1px rgba(0, 0, 0, 0.15);\n",
              "      filter: drop-shadow(0px 1px 2px rgba(0, 0, 0, 0.3));\n",
              "      fill: #FFFFFF;\n",
              "    }\n",
              "  </style>\n",
              "\n",
              "      <script>\n",
              "        const buttonEl =\n",
              "          document.querySelector('#df-14ebb340-ee7a-4ecb-a32f-49a5603b4df4 button.colab-df-convert');\n",
              "        buttonEl.style.display =\n",
              "          google.colab.kernel.accessAllowed ? 'block' : 'none';\n",
              "\n",
              "        async function convertToInteractive(key) {\n",
              "          const element = document.querySelector('#df-14ebb340-ee7a-4ecb-a32f-49a5603b4df4');\n",
              "          const dataTable =\n",
              "            await google.colab.kernel.invokeFunction('convertToInteractive',\n",
              "                                                     [key], {});\n",
              "          if (!dataTable) return;\n",
              "\n",
              "          const docLinkHtml = 'Like what you see? Visit the ' +\n",
              "            '<a target=\"_blank\" href=https://colab.research.google.com/notebooks/data_table.ipynb>data table notebook</a>'\n",
              "            + ' to learn more about interactive tables.';\n",
              "          element.innerHTML = '';\n",
              "          dataTable['output_type'] = 'display_data';\n",
              "          await google.colab.output.renderOutput(dataTable, element);\n",
              "          const docLink = document.createElement('div');\n",
              "          docLink.innerHTML = docLinkHtml;\n",
              "          element.appendChild(docLink);\n",
              "        }\n",
              "      </script>\n",
              "    </div>\n",
              "  </div>\n",
              "  "
            ]
          },
          "metadata": {},
          "execution_count": 2
        }
      ]
    },
    {
      "cell_type": "code",
      "source": [
        "data.isnull().sum()"
      ],
      "metadata": {
        "colab": {
          "base_uri": "https://localhost:8080/"
        },
        "id": "t6ScHFrOEsRc",
        "outputId": "a005155b-bd16-4632-ed5e-b7517016b2d0"
      },
      "execution_count": null,
      "outputs": [
        {
          "output_type": "execute_result",
          "data": {
            "text/plain": [
              "Age                                          0\n",
              "Gender                                       0\n",
              "Marital Status                               0\n",
              "Occupation                                   0\n",
              "Monthly Income                               0\n",
              "Educational Qualifications                   0\n",
              "Family size                                  0\n",
              "latitude                                     0\n",
              "longitude                                    0\n",
              "Pin code                                     0\n",
              "Medium (P1)                                  0\n",
              "Medium (P2)                                  0\n",
              "Meal(P1)                                     0\n",
              "Meal(P2)                                     0\n",
              "Perference(P1)                               0\n",
              "Perference(P2)                               0\n",
              "Ease and convenient                          0\n",
              "Time saving                                  0\n",
              "More restaurant choices                      0\n",
              "Easy Payment option                          0\n",
              "More Offers and Discount                     0\n",
              "Good Food quality                            0\n",
              "Good Tracking system                         0\n",
              "Self Cooking                                 0\n",
              "Health Concern                               0\n",
              "Late Delivery                                0\n",
              "Poor Hygiene                                 0\n",
              "Bad past experience                          0\n",
              "Unavailability                               0\n",
              "Unaffordable                                 0\n",
              "Long delivery time                           0\n",
              "Delay of delivery person getting assigned    0\n",
              "Delay of delivery person picking up food     0\n",
              "Wrong order delivered                        0\n",
              "Missing item                                 0\n",
              "Order placed by mistake                      0\n",
              "Influence of time                            0\n",
              "Order Time                                   0\n",
              "Maximum wait time                            0\n",
              "Residence in busy location                   0\n",
              "Google Maps Accuracy                         0\n",
              "Good Road Condition                          0\n",
              "Low quantity low time                        0\n",
              "Delivery person ability                      0\n",
              "Influence of rating                          0\n",
              "Less Delivery time                           0\n",
              "High Quality of package                      0\n",
              "Number of calls                              0\n",
              "Politeness                                   0\n",
              "Freshness                                    0\n",
              "Temperature                                  0\n",
              "Good Taste                                   0\n",
              "Good Quantity                                0\n",
              "Output                                       0\n",
              "Reviews                                      0\n",
              "dtype: int64"
            ]
          },
          "metadata": {},
          "execution_count": 3
        }
      ]
    },
    {
      "cell_type": "code",
      "source": [
        "data.columns\n",
        "dropCol = ['latitude', 'longitude','Educational Qualifications','Pin code','Reviews']\n",
        "data.drop(dropCol, axis = 1, inplace=True)"
      ],
      "metadata": {
        "id": "CEMWtY8kYQ8P"
      },
      "execution_count": null,
      "outputs": []
    },
    {
      "cell_type": "code",
      "source": [
        "data.head()"
      ],
      "metadata": {
        "colab": {
          "base_uri": "https://localhost:8080/",
          "height": 508
        },
        "id": "qLtrneH_ayhq",
        "outputId": "362d9769-abe1-4c36-c02f-607ebaf9bcfe"
      },
      "execution_count": null,
      "outputs": [
        {
          "output_type": "execute_result",
          "data": {
            "text/plain": [
              "   Age  Gender Marital Status Occupation  Monthly Income  Family size  \\\n",
              "0   20  Female         Single    Student       No Income            4   \n",
              "1   24  Female         Single    Student  Below Rs.10000            3   \n",
              "2   22    Male         Single    Student  Below Rs.10000            3   \n",
              "3   22  Female         Single    Student       No Income            6   \n",
              "4   22    Male         Single    Student  Below Rs.10000            4   \n",
              "\n",
              "          Medium (P1)   Medium (P2)   Meal(P1) Meal(P2)  ...  \\\n",
              "0  Food delivery apps   Web browser  Breakfast    Lunch  ...   \n",
              "1  Food delivery apps   Web browser     Snacks   Dinner  ...   \n",
              "2  Food delivery apps   Direct call      Lunch   Snacks  ...   \n",
              "3  Food delivery apps       Walk-in     Snacks   Dinner  ...   \n",
              "4             Walk-in   Direct call      Lunch   Dinner  ...   \n",
              "\n",
              "  Influence of rating    Less Delivery time High Quality of package  \\\n",
              "0                 Yes  Moderately Important    Moderately Important   \n",
              "1                 Yes        Very Important          Very Important   \n",
              "2                 Yes             Important          Very Important   \n",
              "3                 Yes        Very Important               Important   \n",
              "4                 Yes             Important               Important   \n",
              "\n",
              "        Number of calls            Politeness            Freshness   \\\n",
              "0  Moderately Important  Moderately Important  Moderately Important   \n",
              "1        Very Important        Very Important        Very Important   \n",
              "2  Moderately Important        Very Important        Very Important   \n",
              "3  Moderately Important        Very Important        Very Important   \n",
              "4  Moderately Important             Important             Important   \n",
              "\n",
              "            Temperature           Good Taste          Good Quantity Output  \n",
              "0  Moderately Important  Moderately Important  Moderately Important    Yes  \n",
              "1        Very Important        Very Important        Very Important    Yes  \n",
              "2             Important        Very Important  Moderately Important    Yes  \n",
              "3        Very Important        Very Important             Important    Yes  \n",
              "4             Important        Very Important        Very Important    Yes  \n",
              "\n",
              "[5 rows x 50 columns]"
            ],
            "text/html": [
              "\n",
              "  <div id=\"df-e48f29f7-e6f1-40c4-9163-0c9e0673b7d8\">\n",
              "    <div class=\"colab-df-container\">\n",
              "      <div>\n",
              "<style scoped>\n",
              "    .dataframe tbody tr th:only-of-type {\n",
              "        vertical-align: middle;\n",
              "    }\n",
              "\n",
              "    .dataframe tbody tr th {\n",
              "        vertical-align: top;\n",
              "    }\n",
              "\n",
              "    .dataframe thead th {\n",
              "        text-align: right;\n",
              "    }\n",
              "</style>\n",
              "<table border=\"1\" class=\"dataframe\">\n",
              "  <thead>\n",
              "    <tr style=\"text-align: right;\">\n",
              "      <th></th>\n",
              "      <th>Age</th>\n",
              "      <th>Gender</th>\n",
              "      <th>Marital Status</th>\n",
              "      <th>Occupation</th>\n",
              "      <th>Monthly Income</th>\n",
              "      <th>Family size</th>\n",
              "      <th>Medium (P1)</th>\n",
              "      <th>Medium (P2)</th>\n",
              "      <th>Meal(P1)</th>\n",
              "      <th>Meal(P2)</th>\n",
              "      <th>...</th>\n",
              "      <th>Influence of rating</th>\n",
              "      <th>Less Delivery time</th>\n",
              "      <th>High Quality of package</th>\n",
              "      <th>Number of calls</th>\n",
              "      <th>Politeness</th>\n",
              "      <th>Freshness</th>\n",
              "      <th>Temperature</th>\n",
              "      <th>Good Taste</th>\n",
              "      <th>Good Quantity</th>\n",
              "      <th>Output</th>\n",
              "    </tr>\n",
              "  </thead>\n",
              "  <tbody>\n",
              "    <tr>\n",
              "      <th>0</th>\n",
              "      <td>20</td>\n",
              "      <td>Female</td>\n",
              "      <td>Single</td>\n",
              "      <td>Student</td>\n",
              "      <td>No Income</td>\n",
              "      <td>4</td>\n",
              "      <td>Food delivery apps</td>\n",
              "      <td>Web browser</td>\n",
              "      <td>Breakfast</td>\n",
              "      <td>Lunch</td>\n",
              "      <td>...</td>\n",
              "      <td>Yes</td>\n",
              "      <td>Moderately Important</td>\n",
              "      <td>Moderately Important</td>\n",
              "      <td>Moderately Important</td>\n",
              "      <td>Moderately Important</td>\n",
              "      <td>Moderately Important</td>\n",
              "      <td>Moderately Important</td>\n",
              "      <td>Moderately Important</td>\n",
              "      <td>Moderately Important</td>\n",
              "      <td>Yes</td>\n",
              "    </tr>\n",
              "    <tr>\n",
              "      <th>1</th>\n",
              "      <td>24</td>\n",
              "      <td>Female</td>\n",
              "      <td>Single</td>\n",
              "      <td>Student</td>\n",
              "      <td>Below Rs.10000</td>\n",
              "      <td>3</td>\n",
              "      <td>Food delivery apps</td>\n",
              "      <td>Web browser</td>\n",
              "      <td>Snacks</td>\n",
              "      <td>Dinner</td>\n",
              "      <td>...</td>\n",
              "      <td>Yes</td>\n",
              "      <td>Very Important</td>\n",
              "      <td>Very Important</td>\n",
              "      <td>Very Important</td>\n",
              "      <td>Very Important</td>\n",
              "      <td>Very Important</td>\n",
              "      <td>Very Important</td>\n",
              "      <td>Very Important</td>\n",
              "      <td>Very Important</td>\n",
              "      <td>Yes</td>\n",
              "    </tr>\n",
              "    <tr>\n",
              "      <th>2</th>\n",
              "      <td>22</td>\n",
              "      <td>Male</td>\n",
              "      <td>Single</td>\n",
              "      <td>Student</td>\n",
              "      <td>Below Rs.10000</td>\n",
              "      <td>3</td>\n",
              "      <td>Food delivery apps</td>\n",
              "      <td>Direct call</td>\n",
              "      <td>Lunch</td>\n",
              "      <td>Snacks</td>\n",
              "      <td>...</td>\n",
              "      <td>Yes</td>\n",
              "      <td>Important</td>\n",
              "      <td>Very Important</td>\n",
              "      <td>Moderately Important</td>\n",
              "      <td>Very Important</td>\n",
              "      <td>Very Important</td>\n",
              "      <td>Important</td>\n",
              "      <td>Very Important</td>\n",
              "      <td>Moderately Important</td>\n",
              "      <td>Yes</td>\n",
              "    </tr>\n",
              "    <tr>\n",
              "      <th>3</th>\n",
              "      <td>22</td>\n",
              "      <td>Female</td>\n",
              "      <td>Single</td>\n",
              "      <td>Student</td>\n",
              "      <td>No Income</td>\n",
              "      <td>6</td>\n",
              "      <td>Food delivery apps</td>\n",
              "      <td>Walk-in</td>\n",
              "      <td>Snacks</td>\n",
              "      <td>Dinner</td>\n",
              "      <td>...</td>\n",
              "      <td>Yes</td>\n",
              "      <td>Very Important</td>\n",
              "      <td>Important</td>\n",
              "      <td>Moderately Important</td>\n",
              "      <td>Very Important</td>\n",
              "      <td>Very Important</td>\n",
              "      <td>Very Important</td>\n",
              "      <td>Very Important</td>\n",
              "      <td>Important</td>\n",
              "      <td>Yes</td>\n",
              "    </tr>\n",
              "    <tr>\n",
              "      <th>4</th>\n",
              "      <td>22</td>\n",
              "      <td>Male</td>\n",
              "      <td>Single</td>\n",
              "      <td>Student</td>\n",
              "      <td>Below Rs.10000</td>\n",
              "      <td>4</td>\n",
              "      <td>Walk-in</td>\n",
              "      <td>Direct call</td>\n",
              "      <td>Lunch</td>\n",
              "      <td>Dinner</td>\n",
              "      <td>...</td>\n",
              "      <td>Yes</td>\n",
              "      <td>Important</td>\n",
              "      <td>Important</td>\n",
              "      <td>Moderately Important</td>\n",
              "      <td>Important</td>\n",
              "      <td>Important</td>\n",
              "      <td>Important</td>\n",
              "      <td>Very Important</td>\n",
              "      <td>Very Important</td>\n",
              "      <td>Yes</td>\n",
              "    </tr>\n",
              "  </tbody>\n",
              "</table>\n",
              "<p>5 rows × 50 columns</p>\n",
              "</div>\n",
              "      <button class=\"colab-df-convert\" onclick=\"convertToInteractive('df-e48f29f7-e6f1-40c4-9163-0c9e0673b7d8')\"\n",
              "              title=\"Convert this dataframe to an interactive table.\"\n",
              "              style=\"display:none;\">\n",
              "        \n",
              "  <svg xmlns=\"http://www.w3.org/2000/svg\" height=\"24px\"viewBox=\"0 0 24 24\"\n",
              "       width=\"24px\">\n",
              "    <path d=\"M0 0h24v24H0V0z\" fill=\"none\"/>\n",
              "    <path d=\"M18.56 5.44l.94 2.06.94-2.06 2.06-.94-2.06-.94-.94-2.06-.94 2.06-2.06.94zm-11 1L8.5 8.5l.94-2.06 2.06-.94-2.06-.94L8.5 2.5l-.94 2.06-2.06.94zm10 10l.94 2.06.94-2.06 2.06-.94-2.06-.94-.94-2.06-.94 2.06-2.06.94z\"/><path d=\"M17.41 7.96l-1.37-1.37c-.4-.4-.92-.59-1.43-.59-.52 0-1.04.2-1.43.59L10.3 9.45l-7.72 7.72c-.78.78-.78 2.05 0 2.83L4 21.41c.39.39.9.59 1.41.59.51 0 1.02-.2 1.41-.59l7.78-7.78 2.81-2.81c.8-.78.8-2.07 0-2.86zM5.41 20L4 18.59l7.72-7.72 1.47 1.35L5.41 20z\"/>\n",
              "  </svg>\n",
              "      </button>\n",
              "      \n",
              "  <style>\n",
              "    .colab-df-container {\n",
              "      display:flex;\n",
              "      flex-wrap:wrap;\n",
              "      gap: 12px;\n",
              "    }\n",
              "\n",
              "    .colab-df-convert {\n",
              "      background-color: #E8F0FE;\n",
              "      border: none;\n",
              "      border-radius: 50%;\n",
              "      cursor: pointer;\n",
              "      display: none;\n",
              "      fill: #1967D2;\n",
              "      height: 32px;\n",
              "      padding: 0 0 0 0;\n",
              "      width: 32px;\n",
              "    }\n",
              "\n",
              "    .colab-df-convert:hover {\n",
              "      background-color: #E2EBFA;\n",
              "      box-shadow: 0px 1px 2px rgba(60, 64, 67, 0.3), 0px 1px 3px 1px rgba(60, 64, 67, 0.15);\n",
              "      fill: #174EA6;\n",
              "    }\n",
              "\n",
              "    [theme=dark] .colab-df-convert {\n",
              "      background-color: #3B4455;\n",
              "      fill: #D2E3FC;\n",
              "    }\n",
              "\n",
              "    [theme=dark] .colab-df-convert:hover {\n",
              "      background-color: #434B5C;\n",
              "      box-shadow: 0px 1px 3px 1px rgba(0, 0, 0, 0.15);\n",
              "      filter: drop-shadow(0px 1px 2px rgba(0, 0, 0, 0.3));\n",
              "      fill: #FFFFFF;\n",
              "    }\n",
              "  </style>\n",
              "\n",
              "      <script>\n",
              "        const buttonEl =\n",
              "          document.querySelector('#df-e48f29f7-e6f1-40c4-9163-0c9e0673b7d8 button.colab-df-convert');\n",
              "        buttonEl.style.display =\n",
              "          google.colab.kernel.accessAllowed ? 'block' : 'none';\n",
              "\n",
              "        async function convertToInteractive(key) {\n",
              "          const element = document.querySelector('#df-e48f29f7-e6f1-40c4-9163-0c9e0673b7d8');\n",
              "          const dataTable =\n",
              "            await google.colab.kernel.invokeFunction('convertToInteractive',\n",
              "                                                     [key], {});\n",
              "          if (!dataTable) return;\n",
              "\n",
              "          const docLinkHtml = 'Like what you see? Visit the ' +\n",
              "            '<a target=\"_blank\" href=https://colab.research.google.com/notebooks/data_table.ipynb>data table notebook</a>'\n",
              "            + ' to learn more about interactive tables.';\n",
              "          element.innerHTML = '';\n",
              "          dataTable['output_type'] = 'display_data';\n",
              "          await google.colab.output.renderOutput(dataTable, element);\n",
              "          const docLink = document.createElement('div');\n",
              "          docLink.innerHTML = docLinkHtml;\n",
              "          element.appendChild(docLink);\n",
              "        }\n",
              "      </script>\n",
              "    </div>\n",
              "  </div>\n",
              "  "
            ]
          },
          "metadata": {},
          "execution_count": 5
        }
      ]
    },
    {
      "cell_type": "code",
      "source": [
        "import scipy.stats as st \n",
        "\n",
        "# Correlation values for variables more than a threshold of 0.4\n",
        "corr=[]\n",
        "for i in data.columns:\n",
        "    if i not in  ['latitude','longitude','Pin code','Output','Reviews']:\n",
        "        df=pd.crosstab(data['Output'],data[i])\n",
        "        stat, p, dof, expected = st.chi2_contingency(df,correction=True)\n",
        "        t=min(df.shape)-1\n",
        "        deno=sum(df.sum())*t\n",
        "        x=np.sqrt(stat / deno)\n",
        "        if(x>0.4): #thresold\n",
        "             corr.append((i,x))\n",
        "corr"
      ],
      "metadata": {
        "colab": {
          "base_uri": "https://localhost:8080/"
        },
        "id": "JRav7feCq-Sr",
        "outputId": "6a0e7bdb-2729-43e1-a7f3-37710e9a8cfc"
      },
      "execution_count": null,
      "outputs": [
        {
          "output_type": "execute_result",
          "data": {
            "text/plain": [
              "[('Age', 0.41916612670006054),\n",
              " ('Ease and convenient', 0.6944483749782563),\n",
              " ('Time saving', 0.6333333550979008),\n",
              " ('More restaurant choices', 0.5897138785369491),\n",
              " ('Easy Payment option', 0.5571767618313485),\n",
              " ('More Offers and Discount', 0.5564505912203883),\n",
              " ('Good Food quality', 0.4243449172824401),\n",
              " ('Good Tracking system', 0.41749280981704445),\n",
              " ('Unaffordable', 0.40917014994986045),\n",
              " ('Maximum wait time', 0.4135981980209824)]"
            ]
          },
          "metadata": {},
          "execution_count": 6
        }
      ]
    },
    {
      "cell_type": "code",
      "source": [
        "# # Visualisation of Age\n",
        "# keysAge = data['Age'].unique()\n",
        "# usersAge = []\n",
        "# valuesYesAge = []\n",
        "# valuesNoAge = []\n",
        "# keysAge.sort()\n",
        "# for i in keysAge:\n",
        "#   usersAge.append((data['Age'] == i).sum())\n",
        "\n",
        "# df = data.groupby(['Age', 'Output'])\n",
        "# d = df.size().to_frame('size')\n",
        "\n",
        "# d.reset_index(inplace = True)\n",
        "\n",
        "# ageYesValues = []\n",
        "# ageNoValues = [0]\n",
        "# for i in range(0, 29, 2):\n",
        "#   ageYesValues.append(d['size'][i])\n",
        "\n",
        "# for i in range(1, 30, 2):\n",
        "#   ageNoValues.append(d['size'][i])\n",
        "\n",
        "# ageYesValues.append(0)\n",
        "# plt.figure(figsize=(10,8))\n",
        "# plt.bar(keysAge-0.2, ageYesValues, width = 0.4)\n",
        "# plt.bar(keysAge+0.2, ageNoValues, width = 0.4)\n",
        "# plt.legend([\"Yes\", \"No\"])"
      ],
      "metadata": {
        "id": "GzIUgBN_vBJN"
      },
      "execution_count": null,
      "outputs": []
    },
    {
      "cell_type": "code",
      "source": [
        "ax = data.groupby(['Age']).Output.value_counts().reset_index(name='counts').pivot(index='Age', columns='Output', values='counts').plot(kind='bar', figsize = (12,7))"
      ],
      "metadata": {
        "colab": {
          "base_uri": "https://localhost:8080/",
          "height": 445
        },
        "id": "AtX87Eey3b0X",
        "outputId": "9a326f20-b58b-40ac-ed4b-69ef022ad3a6"
      },
      "execution_count": null,
      "outputs": [
        {
          "output_type": "display_data",
          "data": {
            "text/plain": [
              "<Figure size 864x504 with 1 Axes>"
            ],
            "image/png": "[encoded data removed]"
          },
          "metadata": {
            "needs_background": "light"
          }
        }
      ]
    },
    {
      "cell_type": "code",
      "source": [
        "ax = data.groupby(['Ease and convenient']).Output.value_counts().reset_index(name='counts').pivot(index='Ease and convenient', columns='Output', values='counts').plot(kind='bar', \n",
        "                                                                                                                                                                    figsize = (12,7))"
      ],
      "metadata": {
        "colab": {
          "base_uri": "https://localhost:8080/",
          "height": 520
        },
        "id": "8dAkX_hg38Vx",
        "outputId": "8eb735af-3cd0-4a8e-f923-bb934b05d651"
      },
      "execution_count": null,
      "outputs": [
        {
          "output_type": "display_data",
          "data": {
            "text/plain": [
              "<Figure size 864x504 with 1 Axes>"
            ],
            "image/png": "[encoded data removed]"
          },
          "metadata": {
            "needs_background": "light"
          }
        }
      ]
    },
    {
      "cell_type": "code",
      "source": [
        "ax = data.groupby(['Time saving']).Output.value_counts().reset_index(name='counts').pivot(index='Time saving', columns='Output', values='counts').plot(kind='bar', figsize = (12,7))"
      ],
      "metadata": {
        "id": "MlPcxg5z6l5i",
        "outputId": "ef921aa4-1db3-4604-dc18-41f439157992",
        "colab": {
          "base_uri": "https://localhost:8080/",
          "height": 520
        }
      },
      "execution_count": null,
      "outputs": [
        {
          "output_type": "display_data",
          "data": {
            "text/plain": [
              "<Figure size 864x504 with 1 Axes>"
            ],
            "image/png": "[encoded data removed]"
          },
          "metadata": {
            "needs_background": "light"
          }
        }
      ]
    },
    {
      "cell_type": "code",
      "source": [
        "ax = data.groupby(['Easy Payment option']).Output.value_counts().reset_index(name='counts').pivot(index='Easy Payment option', columns='Output', values='counts').plot(kind='bar', figsize = (12,7))"
      ],
      "metadata": {
        "colab": {
          "base_uri": "https://localhost:8080/",
          "height": 520
        },
        "outputId": "8c3f4e05-fe02-4a7b-d02e-d91e65172932",
        "id": "K2pPxFCu-YXe"
      },
      "execution_count": null,
      "outputs": [
        {
          "output_type": "display_data",
          "data": {
            "text/plain": [
              "<Figure size 864x504 with 1 Axes>"
            ],
            "image/png": "[encoded data removed]"
          },
          "metadata": {
            "needs_background": "light"
          }
        }
      ]
    },
    {
      "cell_type": "code",
      "source": [
        "ax = data.groupby(['More Offers and Discount']).Output.value_counts().reset_index(name='counts').pivot(index='More Offers and Discount', columns='Output', values='counts').plot(kind='bar', \n",
        "                                                                                                                                                                                 figsize = (12,7))"
      ],
      "metadata": {
        "colab": {
          "base_uri": "https://localhost:8080/",
          "height": 520
        },
        "outputId": "0e8c0039-36f8-4c07-b869-71d3dae3e6dd",
        "id": "iWwXySgd-fEq"
      },
      "execution_count": null,
      "outputs": [
        {
          "output_type": "display_data",
          "data": {
            "text/plain": [
              "<Figure size 864x504 with 1 Axes>"
            ],
            "image/png": "[encoded data removed]"
          },
          "metadata": {
            "needs_background": "light"
          }
        }
      ]
    },
    {
      "cell_type": "code",
      "source": [
        "ax = data.groupby(['Good Food quality']).Output.value_counts().reset_index(name='counts').pivot(index='Good Food quality', columns='Output', values='counts').plot(kind='bar', figsize = (12,7))"
      ],
      "metadata": {
        "colab": {
          "base_uri": "https://localhost:8080/",
          "height": 520
        },
        "outputId": "6178eb6d-c261-4451-d933-085a82ebd7e9",
        "id": "sZFNfBU9-Xh0"
      },
      "execution_count": null,
      "outputs": [
        {
          "output_type": "display_data",
          "data": {
            "text/plain": [
              "<Figure size 864x504 with 1 Axes>"
            ],
            "image/png": "[encoded data removed]"
          },
          "metadata": {
            "needs_background": "light"
          }
        }
      ]
    },
    {
      "cell_type": "code",
      "source": [
        "ax = data.groupby(['Good Tracking system']).Output.value_counts().reset_index(name='counts').pivot(index='Good Tracking system', columns='Output', values='counts').plot(kind='bar', figsize = (12,7))"
      ],
      "metadata": {
        "id": "FDW7fztS6nM8",
        "colab": {
          "base_uri": "https://localhost:8080/",
          "height": 520
        },
        "outputId": "d343e348-b589-4a9b-b71a-023aa1f8d8d7"
      },
      "execution_count": null,
      "outputs": [
        {
          "output_type": "display_data",
          "data": {
            "text/plain": [
              "<Figure size 864x504 with 1 Axes>"
            ],
            "image/png": "[encoded data removed]"
          },
          "metadata": {
            "needs_background": "light"
          }
        }
      ]
    },
    {
      "cell_type": "code",
      "source": [
        "ax = data.groupby(['Unaffordable']).Output.value_counts().reset_index(name='counts').pivot(index='Unaffordable', columns='Output', values='counts').plot(kind='bar', figsize = (12,7))"
      ],
      "metadata": {
        "id": "i2TnkS2g6njz",
        "colab": {
          "base_uri": "https://localhost:8080/",
          "height": 520
        },
        "outputId": "15366b17-6880-4828-bf82-542308d6c467"
      },
      "execution_count": null,
      "outputs": [
        {
          "output_type": "display_data",
          "data": {
            "text/plain": [
              "<Figure size 864x504 with 1 Axes>"
            ],
            "image/png": "[encoded data removed]"
          },
          "metadata": {
            "needs_background": "light"
          }
        }
      ]
    },
    {
      "cell_type": "code",
      "source": [
        "ax = data.groupby(['More restaurant choices']).Output.value_counts().reset_index(name='counts').pivot(index='More restaurant choices', columns='Output', \n",
        "                                                                                                      values='counts').plot(kind='bar', figsize = (12,7))\n",
        "                                                                                                                                                      "
      ],
      "metadata": {
        "colab": {
          "base_uri": "https://localhost:8080/",
          "height": 520
        },
        "id": "BtcADGPw7Auu",
        "outputId": "97bef619-ff55-4fae-f74b-a2e198d3d687"
      },
      "execution_count": null,
      "outputs": [
        {
          "output_type": "display_data",
          "data": {
            "text/plain": [
              "<Figure size 864x504 with 1 Axes>"
            ],
            "image/png": "[encoded data removed]"
          },
          "metadata": {
            "needs_background": "light"
          }
        }
      ]
    },
    {
      "cell_type": "code",
      "source": [
        "ax = data.groupby(['Maximum wait time']).Output.value_counts().reset_index(name='counts').pivot(index='Maximum wait time', columns='Output', values='counts').plot(kind='bar', figsize = (12,7))"
      ],
      "metadata": {
        "colab": {
          "base_uri": "https://localhost:8080/",
          "height": 542
        },
        "id": "cuREV2Ed6oD8",
        "outputId": "5643b0c5-5d09-4042-9c29-91cf21610b30"
      },
      "execution_count": null,
      "outputs": [
        {
          "output_type": "display_data",
          "data": {
            "text/plain": [
              "<Figure size 864x504 with 1 Axes>"
            ],
            "image/png": "[encoded data removed]"
          },
          "metadata": {
            "needs_background": "light"
          }
        }
      ]
    },
    {
      "cell_type": "code",
      "source": [
        "from sklearn.preprocessing import LabelEncoder\n",
        "#Label Encoding\n",
        "\n",
        "data.columns\n",
        "colsEnc = ['Gender', 'Marital Status', 'Occupation', 'Monthly Income', 'Medium (P1)', 'Medium (P2)', \n",
        "           'Meal(P1)', 'Meal(P2)', 'Perference(P1)', 'Perference(P2)', 'Ease and convenient', \n",
        "           'Time saving', 'More restaurant choices', 'Easy Payment option', 'More Offers and Discount', \n",
        "           'Good Food quality', 'Good Tracking system', 'Self Cooking', 'Health Concern', \n",
        "           'Late Delivery', 'Poor Hygiene', 'Bad past experience', 'Unavailability', 'Unaffordable', \n",
        "           'Long delivery time', 'Delay of delivery person getting assigned',\n",
        "           'Delay of delivery person picking up food', 'Wrong order delivered',\n",
        "           'Missing item', 'Order placed by mistake', 'Influence of time', 'Order Time', 'Maximum wait time', \n",
        "           'Residence in busy location', 'Google Maps Accuracy', 'Good Road Condition', 'Low quantity low time', \n",
        "           'Delivery person ability', 'Influence of rating', 'Less Delivery time','High Quality of package', \n",
        "           'Number of calls', 'Politeness', 'Freshness ', 'Temperature', 'Good Taste ', 'Good Quantity', 'Output']\n",
        "\n",
        "from sklearn.preprocessing import LabelEncoder\n",
        "\n",
        "data[colsEnc] = data[colsEnc].apply(LabelEncoder().fit_transform)"
      ],
      "metadata": {
        "id": "neTPHP1tighn"
      },
      "execution_count": null,
      "outputs": []
    },
    {
      "cell_type": "code",
      "source": [
        "data.head()"
      ],
      "metadata": {
        "colab": {
          "base_uri": "https://localhost:8080/",
          "height": 351
        },
        "id": "hfeiEKknjjDf",
        "outputId": "ef4f4d96-ac37-4a42-a63b-0ed79a5c5744"
      },
      "execution_count": null,
      "outputs": [
        {
          "output_type": "execute_result",
          "data": {
            "text/plain": [
              "   Age  Gender  Marital Status  Occupation  Monthly Income  Family size  \\\n",
              "0   20       0               2           3               4            4   \n",
              "1   24       0               2           3               2            3   \n",
              "2   22       1               2           3               2            3   \n",
              "3   22       0               2           3               4            6   \n",
              "4   22       1               2           3               2            4   \n",
              "\n",
              "   Medium (P1)  Medium (P2)  Meal(P1)  Meal(P2)  ...  Influence of rating  \\\n",
              "0            1            2         0         1  ...                    2   \n",
              "1            1            2         3         0  ...                    2   \n",
              "2            1            0         2         2  ...                    2   \n",
              "3            1            1         3         0  ...                    2   \n",
              "4            2            0         2         0  ...                    2   \n",
              "\n",
              "   Less Delivery time  High Quality of package  Number of calls  Politeness  \\\n",
              "0                   1                        1                1           1   \n",
              "1                   4                        4                4           4   \n",
              "2                   0                        4                1           4   \n",
              "3                   4                        0                1           4   \n",
              "4                   0                        0                1           0   \n",
              "\n",
              "   Freshness   Temperature  Good Taste   Good Quantity  Output  \n",
              "0           1            1            1              1       1  \n",
              "1           4            4            4              4       1  \n",
              "2           4            0            4              1       1  \n",
              "3           4            4            4              0       1  \n",
              "4           0            0            4              4       1  \n",
              "\n",
              "[5 rows x 50 columns]"
            ],
            "text/html": [
              "\n",
              "  <div id=\"df-af5d6ae3-6cbb-4f42-ab60-2982e07667cb\">\n",
              "    <div class=\"colab-df-container\">\n",
              "      <div>\n",
              "<style scoped>\n",
              "    .dataframe tbody tr th:only-of-type {\n",
              "        vertical-align: middle;\n",
              "    }\n",
              "\n",
              "    .dataframe tbody tr th {\n",
              "        vertical-align: top;\n",
              "    }\n",
              "\n",
              "    .dataframe thead th {\n",
              "        text-align: right;\n",
              "    }\n",
              "</style>\n",
              "<table border=\"1\" class=\"dataframe\">\n",
              "  <thead>\n",
              "    <tr style=\"text-align: right;\">\n",
              "      <th></th>\n",
              "      <th>Age</th>\n",
              "      <th>Gender</th>\n",
              "      <th>Marital Status</th>\n",
              "      <th>Occupation</th>\n",
              "      <th>Monthly Income</th>\n",
              "      <th>Family size</th>\n",
              "      <th>Medium (P1)</th>\n",
              "      <th>Medium (P2)</th>\n",
              "      <th>Meal(P1)</th>\n",
              "      <th>Meal(P2)</th>\n",
              "      <th>...</th>\n",
              "      <th>Influence of rating</th>\n",
              "      <th>Less Delivery time</th>\n",
              "      <th>High Quality of package</th>\n",
              "      <th>Number of calls</th>\n",
              "      <th>Politeness</th>\n",
              "      <th>Freshness</th>\n",
              "      <th>Temperature</th>\n",
              "      <th>Good Taste</th>\n",
              "      <th>Good Quantity</th>\n",
              "      <th>Output</th>\n",
              "    </tr>\n",
              "  </thead>\n",
              "  <tbody>\n",
              "    <tr>\n",
              "      <th>0</th>\n",
              "      <td>20</td>\n",
              "      <td>0</td>\n",
              "      <td>2</td>\n",
              "      <td>3</td>\n",
              "      <td>4</td>\n",
              "      <td>4</td>\n",
              "      <td>1</td>\n",
              "      <td>2</td>\n",
              "      <td>0</td>\n",
              "      <td>1</td>\n",
              "      <td>...</td>\n",
              "      <td>2</td>\n",
              "      <td>1</td>\n",
              "      <td>1</td>\n",
              "      <td>1</td>\n",
              "      <td>1</td>\n",
              "      <td>1</td>\n",
              "      <td>1</td>\n",
              "      <td>1</td>\n",
              "      <td>1</td>\n",
              "      <td>1</td>\n",
              "    </tr>\n",
              "    <tr>\n",
              "      <th>1</th>\n",
              "      <td>24</td>\n",
              "      <td>0</td>\n",
              "      <td>2</td>\n",
              "      <td>3</td>\n",
              "      <td>2</td>\n",
              "      <td>3</td>\n",
              "      <td>1</td>\n",
              "      <td>2</td>\n",
              "      <td>3</td>\n",
              "      <td>0</td>\n",
              "      <td>...</td>\n",
              "      <td>2</td>\n",
              "      <td>4</td>\n",
              "      <td>4</td>\n",
              "      <td>4</td>\n",
              "      <td>4</td>\n",
              "      <td>4</td>\n",
              "      <td>4</td>\n",
              "      <td>4</td>\n",
              "      <td>4</td>\n",
              "      <td>1</td>\n",
              "    </tr>\n",
              "    <tr>\n",
              "      <th>2</th>\n",
              "      <td>22</td>\n",
              "      <td>1</td>\n",
              "      <td>2</td>\n",
              "      <td>3</td>\n",
              "      <td>2</td>\n",
              "      <td>3</td>\n",
              "      <td>1</td>\n",
              "      <td>0</td>\n",
              "      <td>2</td>\n",
              "      <td>2</td>\n",
              "      <td>...</td>\n",
              "      <td>2</td>\n",
              "      <td>0</td>\n",
              "      <td>4</td>\n",
              "      <td>1</td>\n",
              "      <td>4</td>\n",
              "      <td>4</td>\n",
              "      <td>0</td>\n",
              "      <td>4</td>\n",
              "      <td>1</td>\n",
              "      <td>1</td>\n",
              "    </tr>\n",
              "    <tr>\n",
              "      <th>3</th>\n",
              "      <td>22</td>\n",
              "      <td>0</td>\n",
              "      <td>2</td>\n",
              "      <td>3</td>\n",
              "      <td>4</td>\n",
              "      <td>6</td>\n",
              "      <td>1</td>\n",
              "      <td>1</td>\n",
              "      <td>3</td>\n",
              "      <td>0</td>\n",
              "      <td>...</td>\n",
              "      <td>2</td>\n",
              "      <td>4</td>\n",
              "      <td>0</td>\n",
              "      <td>1</td>\n",
              "      <td>4</td>\n",
              "      <td>4</td>\n",
              "      <td>4</td>\n",
              "      <td>4</td>\n",
              "      <td>0</td>\n",
              "      <td>1</td>\n",
              "    </tr>\n",
              "    <tr>\n",
              "      <th>4</th>\n",
              "      <td>22</td>\n",
              "      <td>1</td>\n",
              "      <td>2</td>\n",
              "      <td>3</td>\n",
              "      <td>2</td>\n",
              "      <td>4</td>\n",
              "      <td>2</td>\n",
              "      <td>0</td>\n",
              "      <td>2</td>\n",
              "      <td>0</td>\n",
              "      <td>...</td>\n",
              "      <td>2</td>\n",
              "      <td>0</td>\n",
              "      <td>0</td>\n",
              "      <td>1</td>\n",
              "      <td>0</td>\n",
              "      <td>0</td>\n",
              "      <td>0</td>\n",
              "      <td>4</td>\n",
              "      <td>4</td>\n",
              "      <td>1</td>\n",
              "    </tr>\n",
              "  </tbody>\n",
              "</table>\n",
              "<p>5 rows × 50 columns</p>\n",
              "</div>\n",
              "      <button class=\"colab-df-convert\" onclick=\"convertToInteractive('df-af5d6ae3-6cbb-4f42-ab60-2982e07667cb')\"\n",
              "              title=\"Convert this dataframe to an interactive table.\"\n",
              "              style=\"display:none;\">\n",
              "        \n",
              "  <svg xmlns=\"http://www.w3.org/2000/svg\" height=\"24px\"viewBox=\"0 0 24 24\"\n",
              "       width=\"24px\">\n",
              "    <path d=\"M0 0h24v24H0V0z\" fill=\"none\"/>\n",
              "    <path d=\"M18.56 5.44l.94 2.06.94-2.06 2.06-.94-2.06-.94-.94-2.06-.94 2.06-2.06.94zm-11 1L8.5 8.5l.94-2.06 2.06-.94-2.06-.94L8.5 2.5l-.94 2.06-2.06.94zm10 10l.94 2.06.94-2.06 2.06-.94-2.06-.94-.94-2.06-.94 2.06-2.06.94z\"/><path d=\"M17.41 7.96l-1.37-1.37c-.4-.4-.92-.59-1.43-.59-.52 0-1.04.2-1.43.59L10.3 9.45l-7.72 7.72c-.78.78-.78 2.05 0 2.83L4 21.41c.39.39.9.59 1.41.59.51 0 1.02-.2 1.41-.59l7.78-7.78 2.81-2.81c.8-.78.8-2.07 0-2.86zM5.41 20L4 18.59l7.72-7.72 1.47 1.35L5.41 20z\"/>\n",
              "  </svg>\n",
              "      </button>\n",
              "      \n",
              "  <style>\n",
              "    .colab-df-container {\n",
              "      display:flex;\n",
              "      flex-wrap:wrap;\n",
              "      gap: 12px;\n",
              "    }\n",
              "\n",
              "    .colab-df-convert {\n",
              "      background-color: #E8F0FE;\n",
              "      border: none;\n",
              "      border-radius: 50%;\n",
              "      cursor: pointer;\n",
              "      display: none;\n",
              "      fill: #1967D2;\n",
              "      height: 32px;\n",
              "      padding: 0 0 0 0;\n",
              "      width: 32px;\n",
              "    }\n",
              "\n",
              "    .colab-df-convert:hover {\n",
              "      background-color: #E2EBFA;\n",
              "      box-shadow: 0px 1px 2px rgba(60, 64, 67, 0.3), 0px 1px 3px 1px rgba(60, 64, 67, 0.15);\n",
              "      fill: #174EA6;\n",
              "    }\n",
              "\n",
              "    [theme=dark] .colab-df-convert {\n",
              "      background-color: #3B4455;\n",
              "      fill: #D2E3FC;\n",
              "    }\n",
              "\n",
              "    [theme=dark] .colab-df-convert:hover {\n",
              "      background-color: #434B5C;\n",
              "      box-shadow: 0px 1px 3px 1px rgba(0, 0, 0, 0.15);\n",
              "      filter: drop-shadow(0px 1px 2px rgba(0, 0, 0, 0.3));\n",
              "      fill: #FFFFFF;\n",
              "    }\n",
              "  </style>\n",
              "\n",
              "      <script>\n",
              "        const buttonEl =\n",
              "          document.querySelector('#df-af5d6ae3-6cbb-4f42-ab60-2982e07667cb button.colab-df-convert');\n",
              "        buttonEl.style.display =\n",
              "          google.colab.kernel.accessAllowed ? 'block' : 'none';\n",
              "\n",
              "        async function convertToInteractive(key) {\n",
              "          const element = document.querySelector('#df-af5d6ae3-6cbb-4f42-ab60-2982e07667cb');\n",
              "          const dataTable =\n",
              "            await google.colab.kernel.invokeFunction('convertToInteractive',\n",
              "                                                     [key], {});\n",
              "          if (!dataTable) return;\n",
              "\n",
              "          const docLinkHtml = 'Like what you see? Visit the ' +\n",
              "            '<a target=\"_blank\" href=https://colab.research.google.com/notebooks/data_table.ipynb>data table notebook</a>'\n",
              "            + ' to learn more about interactive tables.';\n",
              "          element.innerHTML = '';\n",
              "          dataTable['output_type'] = 'display_data';\n",
              "          await google.colab.output.renderOutput(dataTable, element);\n",
              "          const docLink = document.createElement('div');\n",
              "          docLink.innerHTML = docLinkHtml;\n",
              "          element.appendChild(docLink);\n",
              "        }\n",
              "      </script>\n",
              "    </div>\n",
              "  </div>\n",
              "  "
            ]
          },
          "metadata": {},
          "execution_count": 19
        }
      ]
    },
    {
      "cell_type": "code",
      "source": [
        "%matplotlib inline\n",
        "import seaborn as sns\n",
        "import matplotlib.pyplot as plt\n",
        "\n",
        "fig = plt.figure(figsize=[20, 18])\n",
        "sns.heatmap(data.corr(method='spearman'), annot=False, mask=np.triu(data.corr(method='spearman')), cmap='Spectral',\n",
        "            linewidths=0.1, linecolor='white')\n"
      ],
      "metadata": {
        "colab": {
          "base_uri": "https://localhost:8080/",
          "height": 1000
        },
        "id": "GonG3hpvjqcf",
        "outputId": "90eccf02-7cd5-4e6f-bbbd-7bbaf2dd6a6a"
      },
      "execution_count": null,
      "outputs": [
        {
          "output_type": "execute_result",
          "data": {
            "text/plain": [
              "<matplotlib.axes._subplots.AxesSubplot at 0x7f1ab9d87b50>"
            ]
          },
          "metadata": {},
          "execution_count": 20
        },
        {
          "output_type": "display_data",
          "data": {
            "text/plain": [
              "<Figure size 1440x1296 with 2 Axes>"
            ],
            "image/png": "[encoded data removed]"
          },
          "metadata": {
            "needs_background": "light"
          }
        }
      ]
    },
    {
      "cell_type": "code",
      "source": [
        "data.shape"
      ],
      "metadata": {
        "colab": {
          "base_uri": "https://localhost:8080/"
        },
        "id": "Ildi7J2nTM4S",
        "outputId": "9ac9ec52-9cb3-41eb-f706-ee65292d4b44"
      },
      "execution_count": null,
      "outputs": [
        {
          "output_type": "execute_result",
          "data": {
            "text/plain": [
              "(388, 50)"
            ]
          },
          "metadata": {},
          "execution_count": 21
        }
      ]
    },
    {
      "cell_type": "code",
      "source": [
        "# Splitting the examples\n",
        "from sklearn.model_selection import train_test_split\n",
        "X_train, X_test, y_train, y_test = train_test_split(data.iloc[:, 0:49], data['Output'], test_size=0.25, random_state=42)"
      ],
      "metadata": {
        "id": "H3lyjiVQS6gl"
      },
      "execution_count": null,
      "outputs": []
    },
    {
      "cell_type": "markdown",
      "source": [
        "Logistic Regression"
      ],
      "metadata": {
        "id": "v1CUOC732Yor"
      }
    },
    {
      "cell_type": "code",
      "source": [
        "# import the class\n",
        "from sklearn.linear_model import LogisticRegression\n",
        "\n",
        "# instantiate the model (using the default parameters)\n",
        "logreg = LogisticRegression()\n",
        "\n",
        "# fit the model with data\n",
        "logreg.fit(X_train,y_train)\n",
        "\n",
        "#Predict the response for test dataset\n",
        "y_pred=logreg.predict(X_test)\n",
        "\n",
        "# import the metrics class\n",
        "from sklearn import metrics\n",
        "from sklearn.metrics import accuracy_score\n",
        "cnf_matrix = metrics.confusion_matrix(y_test, y_pred)\n",
        "cnf_matrix\n",
        "\n",
        "\n",
        "from sklearn.metrics import classification_report\n",
        "confusion_matrix = pd.crosstab(y_pred, y_test, rownames=['Prediction'], colnames=['Reference'])\n",
        "print(confusion_matrix, end='\\n\\n')\n",
        "print('Accuracy Score :',accuracy_score(y_test, y_pred), end='\\n\\n')\n",
        "print('Classification Report : ')\n",
        "print(classification_report(y_test, y_pred), end='\\n\\n')\n",
        "\n",
        "# Confusion Matrix in heatmap format\n",
        "class_names=[0,1] # name  of classes\n",
        "fig, ax = plt.subplots()\n",
        "tick_marks = np.arange(len(class_names))\n",
        "plt.xticks(tick_marks, class_names)\n",
        "plt.yticks(tick_marks, class_names)\n",
        "\n",
        "# Create heatmap\n",
        "sns.heatmap(pd.DataFrame(cnf_matrix), annot=True, cmap=\"YlGnBu\" ,fmt='g')\n",
        "ax.xaxis.set_label_position(\"top\")\n",
        "plt.tight_layout()\n",
        "plt.title('Confusion matrix', y=1.1)\n",
        "plt.ylabel('Actual label')\n",
        "plt.xlabel('Predicted label')"
      ],
      "metadata": {
        "id": "MU9SP0rN2Ilq",
        "colab": {
          "base_uri": "https://localhost:8080/",
          "height": 815
        },
        "outputId": "7c6a4742-d764-4d0e-f5a9-31c8c70d214d"
      },
      "execution_count": null,
      "outputs": [
        {
          "output_type": "stream",
          "name": "stdout",
          "text": [
            "Reference   0   1\n",
            "Prediction       \n",
            "0           9   9\n",
            "1           6  73\n",
            "\n",
            "Accuracy Score : 0.845360824742268\n",
            "\n",
            "Classification Report : \n",
            "              precision    recall  f1-score   support\n",
            "\n",
            "           0       0.50      0.60      0.55        15\n",
            "           1       0.92      0.89      0.91        82\n",
            "\n",
            "    accuracy                           0.85        97\n",
            "   macro avg       0.71      0.75      0.73        97\n",
            "weighted avg       0.86      0.85      0.85        97\n",
            "\n",
            "\n"
          ]
        },
        {
          "output_type": "stream",
          "name": "stderr",
          "text": [
            "/usr/local/lib/python3.7/dist-packages/sklearn/linear_model/_logistic.py:818: ConvergenceWarning: lbfgs failed to converge (status=1):\n",
            "STOP: TOTAL NO. of ITERATIONS REACHED LIMIT.\n",
            "\n",
            "Increase the number of iterations (max_iter) or scale the data as shown in:\n",
            "    https://scikit-learn.org/stable/modules/preprocessing.html\n",
            "Please also refer to the documentation for alternative solver options:\n",
            "    https://scikit-learn.org/stable/modules/linear_model.html#logistic-regression\n",
            "  extra_warning_msg=_LOGISTIC_SOLVER_CONVERGENCE_MSG,\n"
          ]
        },
        {
          "output_type": "execute_result",
          "data": {
            "text/plain": [
              "Text(0.5, 257.44, 'Predicted label')"
            ]
          },
          "metadata": {},
          "execution_count": 23
        },
        {
          "output_type": "display_data",
          "data": {
            "text/plain": [
              "<Figure size 432x288 with 2 Axes>"
            ],
            "image/png": "[encoded data removed]"
          },
          "metadata": {
            "needs_background": "light"
          }
        }
      ]
    },
    {
      "cell_type": "markdown",
      "source": [
        "Naive Bayes"
      ],
      "metadata": {
        "id": "sLg_wOSG2i5u"
      }
    },
    {
      "cell_type": "code",
      "source": [
        "#Import Gaussian Naive Bayes model\n",
        "from sklearn.naive_bayes import GaussianNB\n",
        "\n",
        "#Create a Gaussian Classifier\n",
        "gnb = GaussianNB()\n",
        "\n",
        "#Train the model using the training sets\n",
        "gnb.fit(X_train, y_train)\n",
        "\n",
        "#Predict the response for test dataset\n",
        "y_pred = gnb.predict(X_test)\n",
        "\n",
        "#Import scikit-learn metrics module for accuracy calculation\n",
        "from sklearn import metrics\n",
        "\n",
        "# Model Accuracy\n",
        "print(\"Accuracy:\",metrics.accuracy_score(y_test, y_pred))"
      ],
      "metadata": {
        "id": "MKpzRFpx2IMJ",
        "colab": {
          "base_uri": "https://localhost:8080/"
        },
        "outputId": "d8510281-623f-482b-894a-381fc0cea558"
      },
      "execution_count": null,
      "outputs": [
        {
          "output_type": "stream",
          "name": "stdout",
          "text": [
            "Accuracy: 0.3402061855670103\n"
          ]
        }
      ]
    },
    {
      "cell_type": "code",
      "source": [
        "# import the metrics class\n",
        "from sklearn import metrics\n",
        "from sklearn.metrics import accuracy_score\n",
        "cnf_matrix = metrics.confusion_matrix(y_test, y_pred)"
      ],
      "metadata": {
        "id": "zVZ4b9cMOUzC"
      },
      "execution_count": null,
      "outputs": []
    },
    {
      "cell_type": "code",
      "source": [
        "from sklearn.metrics import classification_report\n",
        "confusion_matrix = pd.crosstab(y_pred, y_test, rownames=['Prediction'], colnames=['Reference'])\n",
        "print(confusion_matrix, end='\\n\\n')\n",
        "print('Accuracy Score :',accuracy_score(y_test, y_pred), end='\\n\\n')\n",
        "print('Classification Report : ')\n",
        "print(classification_report(y_test, y_pred), end='\\n\\n')\n",
        "\n",
        "# Confusion Matrix in heatmap format\n",
        "class_names=[0,1] # name  of classes\n",
        "fig, ax = plt.subplots()\n",
        "tick_marks = np.arange(len(class_names))\n",
        "plt.xticks(tick_marks, class_names)\n",
        "plt.yticks(tick_marks, class_names)\n",
        "\n",
        "# Create heatmap\n",
        "sns.heatmap(pd.DataFrame(cnf_matrix), annot=True, cmap=\"YlGnBu\" ,fmt='g')\n",
        "ax.xaxis.set_label_position(\"top\")\n",
        "plt.tight_layout()\n",
        "plt.title('Confusion matrix', y=1.1)\n",
        "plt.ylabel('Actual label')\n",
        "plt.xlabel('Predicted label')"
      ],
      "metadata": {
        "colab": {
          "base_uri": "https://localhost:8080/",
          "height": 670
        },
        "id": "dOXRAQcJMn5V",
        "outputId": "77c81eab-3888-40e1-9b5d-fb5be392a081"
      },
      "execution_count": null,
      "outputs": [
        {
          "output_type": "stream",
          "name": "stdout",
          "text": [
            "Reference    0   1\n",
            "Prediction        \n",
            "0           15  64\n",
            "1            0  18\n",
            "\n",
            "Accuracy Score : 0.3402061855670103\n",
            "\n",
            "Classification Report : \n",
            "              precision    recall  f1-score   support\n",
            "\n",
            "           0       0.19      1.00      0.32        15\n",
            "           1       1.00      0.22      0.36        82\n",
            "\n",
            "    accuracy                           0.34        97\n",
            "   macro avg       0.59      0.61      0.34        97\n",
            "weighted avg       0.87      0.34      0.35        97\n",
            "\n",
            "\n"
          ]
        },
        {
          "output_type": "execute_result",
          "data": {
            "text/plain": [
              "Text(0.5, 257.44, 'Predicted label')"
            ]
          },
          "metadata": {},
          "execution_count": 26
        },
        {
          "output_type": "display_data",
          "data": {
            "text/plain": [
              "<Figure size 432x288 with 2 Axes>"
            ],
            "image/png": "[encoded data removed]"
          },
          "metadata": {
            "needs_background": "light"
          }
        }
      ]
    },
    {
      "cell_type": "markdown",
      "source": [
        "K-Nearest Neighbour"
      ],
      "metadata": {
        "id": "3nMd5tNX2o_A"
      }
    },
    {
      "cell_type": "code",
      "source": [
        "from sklearn.neighbors import KNeighborsClassifier"
      ],
      "metadata": {
        "id": "sGmJbOqU2IIN"
      },
      "execution_count": null,
      "outputs": []
    },
    {
      "cell_type": "code",
      "source": [
        "knn_best = KNeighborsClassifier(n_neighbors=8, p=1)\n",
        "knn_best.fit(X_train,y_train.values.ravel())\n",
        "y_pred = knn_best.predict(X_test)\n",
        "obs = y_test"
      ],
      "metadata": {
        "id": "mcxc_Sem56Vq"
      },
      "execution_count": null,
      "outputs": []
    },
    {
      "cell_type": "code",
      "source": [
        "# import the metrics class\n",
        "from sklearn import metrics\n",
        "from sklearn.metrics import accuracy_score\n",
        "cnf_matrix = metrics.confusion_matrix(y_test, y_pred)"
      ],
      "metadata": {
        "id": "JGjwJAfAOjEU"
      },
      "execution_count": null,
      "outputs": []
    },
    {
      "cell_type": "code",
      "source": [
        "from sklearn.metrics import classification_report\n",
        "from sklearn.metrics import confusion_matrix\n",
        "confusion_matrix = pd.crosstab(y_pred, y_test, rownames=['Prediction'], colnames=['Reference'])\n",
        "print(confusion_matrix, end='\\n\\n')\n",
        "print('Accuracy Score :',accuracy_score(y_test, y_pred), end='\\n\\n')\n",
        "print(classification_report(y_test, y_pred), end='\\n\\n')\n",
        "\n",
        "# Confusion Matrix in heatmap format\n",
        "class_names=[0,1] # name  of classes\n",
        "fig, ax = plt.subplots()\n",
        "tick_marks = np.arange(len(class_names))\n",
        "plt.xticks(tick_marks, class_names)\n",
        "plt.yticks(tick_marks, class_names)\n",
        "\n",
        "# Create heatmap\n",
        "sns.heatmap(pd.DataFrame(cnf_matrix), annot=True, cmap=\"YlGnBu\" ,fmt='g')\n",
        "ax.xaxis.set_label_position(\"top\")\n",
        "plt.tight_layout()\n",
        "plt.title('Confusion matrix', y=1.1)\n",
        "plt.ylabel('Actual label')\n",
        "plt.xlabel('Predicted label')"
      ],
      "metadata": {
        "colab": {
          "base_uri": "https://localhost:8080/",
          "height": 650
        },
        "id": "AbrZW4S_7PH8",
        "outputId": "a9611bd2-68ba-4cba-c480-ca8c706b5d96"
      },
      "execution_count": null,
      "outputs": [
        {
          "output_type": "stream",
          "name": "stdout",
          "text": [
            "Reference    0   1\n",
            "Prediction        \n",
            "0           10   1\n",
            "1            5  81\n",
            "\n",
            "Accuracy Score : 0.9381443298969072\n",
            "\n",
            "              precision    recall  f1-score   support\n",
            "\n",
            "           0       0.91      0.67      0.77        15\n",
            "           1       0.94      0.99      0.96        82\n",
            "\n",
            "    accuracy                           0.94        97\n",
            "   macro avg       0.93      0.83      0.87        97\n",
            "weighted avg       0.94      0.94      0.93        97\n",
            "\n",
            "\n"
          ]
        },
        {
          "output_type": "execute_result",
          "data": {
            "text/plain": [
              "Text(0.5, 257.44, 'Predicted label')"
            ]
          },
          "metadata": {},
          "execution_count": 30
        },
        {
          "output_type": "display_data",
          "data": {
            "text/plain": [
              "<Figure size 432x288 with 2 Axes>"
            ],
            "image/png": "[encoded data removed]"
          },
          "metadata": {
            "needs_background": "light"
          }
        }
      ]
    },
    {
      "cell_type": "markdown",
      "source": [
        "Support Vector Machines"
      ],
      "metadata": {
        "id": "GgzK9fyd2uc2"
      }
    },
    {
      "cell_type": "code",
      "source": [
        "from sklearn.model_selection import GridSearchCV\n",
        "from sklearn import svm"
      ],
      "metadata": {
        "id": "qx7-kJmE2IAD"
      },
      "execution_count": null,
      "outputs": []
    },
    {
      "cell_type": "code",
      "source": [
        "svm_best = svm.SVC(C=5, kernel='rbf')\n",
        "svm_best.fit(X_train,y_train.values.ravel())\n",
        "y_pred = svm_best.predict(X_test)"
      ],
      "metadata": {
        "id": "Iz4lVoSy8yg1"
      },
      "execution_count": null,
      "outputs": []
    },
    {
      "cell_type": "code",
      "source": [
        "# import the metrics class\n",
        "from sklearn import metrics\n",
        "from sklearn.metrics import accuracy_score\n",
        "cnf_matrix = metrics.confusion_matrix(y_test, y_pred)"
      ],
      "metadata": {
        "id": "oU8IuGf_QWnV"
      },
      "execution_count": null,
      "outputs": []
    },
    {
      "cell_type": "code",
      "source": [
        "from sklearn.metrics import classification_report\n",
        "from sklearn.metrics import confusion_matrix\n",
        "confusion_matrix = pd.crosstab(y_pred, y_test, rownames=['Prediction'], colnames=['Reference'])\n",
        "print(confusion_matrix, end='\\n\\n')\n",
        "print('Accuracy Score :',accuracy_score(y_test, y_pred), end='\\n\\n')\n",
        "print(classification_report(y_test, y_pred), end='\\n\\n')\n",
        "\n",
        "# Confusion Matrix in heatmap format\n",
        "class_names=[0,1] # name  of classes\n",
        "fig, ax = plt.subplots()\n",
        "tick_marks = np.arange(len(class_names))\n",
        "plt.xticks(tick_marks, class_names)\n",
        "plt.yticks(tick_marks, class_names)\n",
        "\n",
        "# Create heatmap\n",
        "sns.heatmap(pd.DataFrame(cnf_matrix), annot=True, cmap=\"YlGnBu\" ,fmt='g')\n",
        "ax.xaxis.set_label_position(\"top\")\n",
        "plt.tight_layout()\n",
        "plt.title('Confusion matrix', y=1.1)\n",
        "plt.ylabel('Actual label')\n",
        "plt.xlabel('Predicted label')"
      ],
      "metadata": {
        "colab": {
          "base_uri": "https://localhost:8080/",
          "height": 648
        },
        "id": "yffrdQugQaYN",
        "outputId": "7c476fd0-e36f-4675-89a8-512ba823c608"
      },
      "execution_count": null,
      "outputs": [
        {
          "output_type": "stream",
          "name": "stdout",
          "text": [
            "Reference   0   1\n",
            "Prediction       \n",
            "0           8   2\n",
            "1           7  80\n",
            "\n",
            "Accuracy Score : 0.9072164948453608\n",
            "\n",
            "              precision    recall  f1-score   support\n",
            "\n",
            "           0       0.80      0.53      0.64        15\n",
            "           1       0.92      0.98      0.95        82\n",
            "\n",
            "    accuracy                           0.91        97\n",
            "   macro avg       0.86      0.75      0.79        97\n",
            "weighted avg       0.90      0.91      0.90        97\n",
            "\n",
            "\n"
          ]
        },
        {
          "output_type": "execute_result",
          "data": {
            "text/plain": [
              "Text(0.5, 257.44, 'Predicted label')"
            ]
          },
          "metadata": {},
          "execution_count": 34
        },
        {
          "output_type": "display_data",
          "data": {
            "text/plain": [
              "<Figure size 432x288 with 2 Axes>"
            ],
            "image/png": "[encoded data removed]"
          },
          "metadata": {
            "needs_background": "light"
          }
        }
      ]
    },
    {
      "cell_type": "markdown",
      "source": [
        "ANN"
      ],
      "metadata": {
        "id": "jWFb4JY52T-k"
      }
    },
    {
      "cell_type": "code",
      "source": [
        "X_train, X_val, y_train, y_val = train_test_split(X_train, y_train, test_size=0.2, random_state=50)"
      ],
      "metadata": {
        "id": "hyR8f1RBA3Cl"
      },
      "execution_count": null,
      "outputs": []
    },
    {
      "cell_type": "code",
      "source": [
        "import tensorflow.keras as keras\n",
        "model = keras.Sequential([\n",
        "\tkeras.layers.Dense(49, input_shape=(None, 49), activation='relu'),\n",
        "  keras.layers.Dense(26, activation='relu'),\n",
        "  keras.layers.Dense(11, activation='relu'),\n",
        "  keras.layers.Dense(1, activation='sigmoid')\n",
        "])"
      ],
      "metadata": {
        "id": "zwI21QWtTlwY"
      },
      "execution_count": null,
      "outputs": []
    },
    {
      "cell_type": "code",
      "source": [
        "model.summary()"
      ],
      "metadata": {
        "colab": {
          "base_uri": "https://localhost:8080/"
        },
        "id": "bYe9U5NXUSkr",
        "outputId": "2a82efc3-b6ae-4de4-a3e5-d6f1601b1c49"
      },
      "execution_count": null,
      "outputs": [
        {
          "output_type": "stream",
          "name": "stdout",
          "text": [
            "Model: \"sequential_2\"\n",
            "_________________________________________________________________\n",
            " Layer (type)                Output Shape              Param #   \n",
            "=================================================================\n",
            " dense_8 (Dense)             (None, None, 49)          2450      \n",
            "                                                                 \n",
            " dense_9 (Dense)             (None, None, 26)          1300      \n",
            "                                                                 \n",
            " dense_10 (Dense)            (None, None, 11)          297       \n",
            "                                                                 \n",
            " dense_11 (Dense)            (None, None, 1)           12        \n",
            "                                                                 \n",
            "=================================================================\n",
            "Total params: 4,059\n",
            "Trainable params: 4,059\n",
            "Non-trainable params: 0\n",
            "_________________________________________________________________\n"
          ]
        }
      ]
    },
    {
      "cell_type": "code",
      "source": [
        "model.compile(optimizer='RMSprop',\n",
        "              loss=\"binary_crossentropy\",\n",
        "              metrics=[\"accuracy\"])"
      ],
      "metadata": {
        "id": "gyAcRRFpUUfW"
      },
      "execution_count": null,
      "outputs": []
    },
    {
      "cell_type": "code",
      "source": [
        "history = model.fit(X_train, y_train, epochs=50, batch_size=64, validation_data=(X_val, y_val))"
      ],
      "metadata": {
        "colab": {
          "base_uri": "https://localhost:8080/"
        },
        "id": "YHyWHHL4UZ_y",
        "outputId": "11b5339d-673a-430b-a02e-712da29d9e69"
      },
      "execution_count": null,
      "outputs": [
        {
          "output_type": "stream",
          "name": "stdout",
          "text": [
            "Epoch 1/50\n",
            "WARNING:tensorflow:Model was constructed with shape (None, None, 49) for input KerasTensor(type_spec=TensorSpec(shape=(None, None, 49), dtype=tf.float32, name='dense_8_input'), name='dense_8_input', description=\"created by layer 'dense_8_input'\"), but it was called on an input with incompatible shape (None, 49).\n",
            "WARNING:tensorflow:Model was constructed with shape (None, None, 49) for input KerasTensor(type_spec=TensorSpec(shape=(None, None, 49), dtype=tf.float32, name='dense_8_input'), name='dense_8_input', description=\"created by layer 'dense_8_input'\"), but it was called on an input with incompatible shape (None, 49).\n",
            "1/4 [======>.......................] - ETA: 2s - loss: 0.5204 - accuracy: 0.7969WARNING:tensorflow:Model was constructed with shape (None, None, 49) for input KerasTensor(type_spec=TensorSpec(shape=(None, None, 49), dtype=tf.float32, name='dense_8_input'), name='dense_8_input', description=\"created by layer 'dense_8_input'\"), but it was called on an input with incompatible shape (None, 49).\n",
            "4/4 [==============================] - 1s 70ms/step - loss: 0.5792 - accuracy: 0.7414 - val_loss: 0.5509 - val_accuracy: 0.7458\n",
            "Epoch 2/50\n",
            "4/4 [==============================] - 0s 10ms/step - loss: 0.5271 - accuracy: 0.7629 - val_loss: 0.5542 - val_accuracy: 0.7627\n",
            "Epoch 3/50\n",
            "4/4 [==============================] - 0s 9ms/step - loss: 0.5146 - accuracy: 0.7672 - val_loss: 0.5250 - val_accuracy: 0.7627\n",
            "Epoch 4/50\n",
            "4/4 [==============================] - 0s 11ms/step - loss: 0.4767 - accuracy: 0.7845 - val_loss: 0.5197 - val_accuracy: 0.7458\n",
            "Epoch 5/50\n",
            "4/4 [==============================] - 0s 11ms/step - loss: 0.4639 - accuracy: 0.7845 - val_loss: 0.5152 - val_accuracy: 0.7458\n",
            "Epoch 6/50\n",
            "4/4 [==============================] - 0s 14ms/step - loss: 0.4510 - accuracy: 0.7931 - val_loss: 0.4963 - val_accuracy: 0.8305\n",
            "Epoch 7/50\n",
            "4/4 [==============================] - 0s 11ms/step - loss: 0.4391 - accuracy: 0.8147 - val_loss: 0.5180 - val_accuracy: 0.7458\n",
            "Epoch 8/50\n",
            "4/4 [==============================] - 0s 11ms/step - loss: 0.4284 - accuracy: 0.8017 - val_loss: 0.5008 - val_accuracy: 0.7966\n",
            "Epoch 9/50\n",
            "4/4 [==============================] - 0s 11ms/step - loss: 0.4242 - accuracy: 0.8060 - val_loss: 0.4964 - val_accuracy: 0.7966\n",
            "Epoch 10/50\n",
            "4/4 [==============================] - 0s 10ms/step - loss: 0.4095 - accuracy: 0.8060 - val_loss: 0.5182 - val_accuracy: 0.7458\n",
            "Epoch 11/50\n",
            "4/4 [==============================] - 0s 10ms/step - loss: 0.3950 - accuracy: 0.8362 - val_loss: 0.4825 - val_accuracy: 0.8305\n",
            "Epoch 12/50\n",
            "4/4 [==============================] - 0s 10ms/step - loss: 0.3807 - accuracy: 0.8319 - val_loss: 0.4890 - val_accuracy: 0.8305\n",
            "Epoch 13/50\n",
            "4/4 [==============================] - 0s 10ms/step - loss: 0.3941 - accuracy: 0.8276 - val_loss: 0.4791 - val_accuracy: 0.8136\n",
            "Epoch 14/50\n",
            "4/4 [==============================] - 0s 11ms/step - loss: 0.3702 - accuracy: 0.8405 - val_loss: 0.5026 - val_accuracy: 0.8305\n",
            "Epoch 15/50\n",
            "4/4 [==============================] - 0s 14ms/step - loss: 0.3648 - accuracy: 0.8405 - val_loss: 0.4833 - val_accuracy: 0.8305\n",
            "Epoch 16/50\n",
            "4/4 [==============================] - 0s 11ms/step - loss: 0.3496 - accuracy: 0.8491 - val_loss: 0.4782 - val_accuracy: 0.7797\n",
            "Epoch 17/50\n",
            "4/4 [==============================] - 0s 10ms/step - loss: 0.3511 - accuracy: 0.8534 - val_loss: 0.5203 - val_accuracy: 0.8136\n",
            "Epoch 18/50\n",
            "4/4 [==============================] - 0s 10ms/step - loss: 0.3475 - accuracy: 0.8621 - val_loss: 0.4964 - val_accuracy: 0.8305\n",
            "Epoch 19/50\n",
            "4/4 [==============================] - 0s 11ms/step - loss: 0.3330 - accuracy: 0.8707 - val_loss: 0.4798 - val_accuracy: 0.7966\n",
            "Epoch 20/50\n",
            "4/4 [==============================] - 0s 10ms/step - loss: 0.3312 - accuracy: 0.8836 - val_loss: 0.4885 - val_accuracy: 0.8305\n",
            "Epoch 21/50\n",
            "4/4 [==============================] - 0s 10ms/step - loss: 0.3126 - accuracy: 0.8664 - val_loss: 0.4793 - val_accuracy: 0.7966\n",
            "Epoch 22/50\n",
            "4/4 [==============================] - 0s 11ms/step - loss: 0.3151 - accuracy: 0.8793 - val_loss: 0.4938 - val_accuracy: 0.8305\n",
            "Epoch 23/50\n",
            "4/4 [==============================] - 0s 11ms/step - loss: 0.3152 - accuracy: 0.8664 - val_loss: 0.4802 - val_accuracy: 0.8136\n",
            "Epoch 24/50\n",
            "4/4 [==============================] - 0s 10ms/step - loss: 0.2912 - accuracy: 0.8966 - val_loss: 0.4803 - val_accuracy: 0.7966\n",
            "Epoch 25/50\n",
            "4/4 [==============================] - 0s 11ms/step - loss: 0.2853 - accuracy: 0.9009 - val_loss: 0.4901 - val_accuracy: 0.8136\n",
            "Epoch 26/50\n",
            "4/4 [==============================] - 0s 10ms/step - loss: 0.2895 - accuracy: 0.8836 - val_loss: 0.5142 - val_accuracy: 0.8305\n",
            "Epoch 27/50\n",
            "4/4 [==============================] - 0s 10ms/step - loss: 0.2808 - accuracy: 0.8922 - val_loss: 0.4876 - val_accuracy: 0.8136\n",
            "Epoch 28/50\n",
            "4/4 [==============================] - 0s 12ms/step - loss: 0.2692 - accuracy: 0.8922 - val_loss: 0.5144 - val_accuracy: 0.7627\n",
            "Epoch 29/50\n",
            "4/4 [==============================] - 0s 10ms/step - loss: 0.2777 - accuracy: 0.8922 - val_loss: 0.5047 - val_accuracy: 0.7966\n",
            "Epoch 30/50\n",
            "4/4 [==============================] - 0s 11ms/step - loss: 0.2618 - accuracy: 0.9009 - val_loss: 0.4920 - val_accuracy: 0.8136\n",
            "Epoch 31/50\n",
            "4/4 [==============================] - 0s 14ms/step - loss: 0.2513 - accuracy: 0.9095 - val_loss: 0.4993 - val_accuracy: 0.8305\n",
            "Epoch 32/50\n",
            "4/4 [==============================] - 0s 10ms/step - loss: 0.2425 - accuracy: 0.9224 - val_loss: 0.5075 - val_accuracy: 0.8305\n",
            "Epoch 33/50\n",
            "4/4 [==============================] - 0s 10ms/step - loss: 0.2559 - accuracy: 0.9095 - val_loss: 0.5138 - val_accuracy: 0.8305\n",
            "Epoch 34/50\n",
            "4/4 [==============================] - 0s 11ms/step - loss: 0.2408 - accuracy: 0.9181 - val_loss: 0.5296 - val_accuracy: 0.8136\n",
            "Epoch 35/50\n",
            "4/4 [==============================] - 0s 10ms/step - loss: 0.2374 - accuracy: 0.9224 - val_loss: 0.5388 - val_accuracy: 0.8136\n",
            "Epoch 36/50\n",
            "4/4 [==============================] - 0s 12ms/step - loss: 0.2336 - accuracy: 0.9138 - val_loss: 0.5044 - val_accuracy: 0.8305\n",
            "Epoch 37/50\n",
            "4/4 [==============================] - 0s 11ms/step - loss: 0.2197 - accuracy: 0.9224 - val_loss: 0.5222 - val_accuracy: 0.8305\n",
            "Epoch 38/50\n",
            "4/4 [==============================] - 0s 14ms/step - loss: 0.2094 - accuracy: 0.9397 - val_loss: 0.5336 - val_accuracy: 0.8136\n",
            "Epoch 39/50\n",
            "4/4 [==============================] - 0s 11ms/step - loss: 0.2107 - accuracy: 0.9267 - val_loss: 0.5390 - val_accuracy: 0.8305\n",
            "Epoch 40/50\n",
            "4/4 [==============================] - 0s 10ms/step - loss: 0.2032 - accuracy: 0.9310 - val_loss: 0.5574 - val_accuracy: 0.8136\n",
            "Epoch 41/50\n",
            "4/4 [==============================] - 0s 12ms/step - loss: 0.2175 - accuracy: 0.9095 - val_loss: 0.5623 - val_accuracy: 0.8136\n",
            "Epoch 42/50\n",
            "4/4 [==============================] - 0s 11ms/step - loss: 0.1966 - accuracy: 0.9310 - val_loss: 0.5284 - val_accuracy: 0.8305\n",
            "Epoch 43/50\n",
            "4/4 [==============================] - 0s 11ms/step - loss: 0.1888 - accuracy: 0.9526 - val_loss: 0.5412 - val_accuracy: 0.8305\n",
            "Epoch 44/50\n",
            "4/4 [==============================] - 0s 12ms/step - loss: 0.1743 - accuracy: 0.9440 - val_loss: 0.5405 - val_accuracy: 0.8305\n",
            "Epoch 45/50\n",
            "4/4 [==============================] - 0s 10ms/step - loss: 0.1664 - accuracy: 0.9483 - val_loss: 0.5462 - val_accuracy: 0.8136\n",
            "Epoch 46/50\n",
            "4/4 [==============================] - 0s 10ms/step - loss: 0.1842 - accuracy: 0.9353 - val_loss: 0.5407 - val_accuracy: 0.8305\n",
            "Epoch 47/50\n",
            "4/4 [==============================] - 0s 10ms/step - loss: 0.1581 - accuracy: 0.9526 - val_loss: 0.5815 - val_accuracy: 0.8305\n",
            "Epoch 48/50\n",
            "4/4 [==============================] - 0s 10ms/step - loss: 0.1637 - accuracy: 0.9440 - val_loss: 0.5790 - val_accuracy: 0.8305\n",
            "Epoch 49/50\n",
            "4/4 [==============================] - 0s 10ms/step - loss: 0.1564 - accuracy: 0.9612 - val_loss: 0.5695 - val_accuracy: 0.8305\n",
            "Epoch 50/50\n",
            "4/4 [==============================] - 0s 9ms/step - loss: 0.1423 - accuracy: 0.9569 - val_loss: 0.5932 - val_accuracy: 0.8305\n"
          ]
        }
      ]
    },
    {
      "cell_type": "code",
      "source": [
        "loss_train = history.history['accuracy']\n",
        "loss_val = history.history['val_accuracy']\n",
        "epochs = range(1,51)\n",
        "plt.plot(epochs, loss_train, 'g', label='Training accuracy')\n",
        "plt.plot(epochs, loss_val, 'b', label='validation accuracy')\n",
        "plt.title('Training and Validation accuracy')\n",
        "plt.xlabel('Epochs')\n",
        "plt.ylabel('Accuracy')\n",
        "plt.legend()\n",
        "plt.show()"
      ],
      "metadata": {
        "colab": {
          "base_uri": "https://localhost:8080/",
          "height": 295
        },
        "id": "hD2jzASuUu_5",
        "outputId": "e35d1bfa-aef1-49c4-e094-a95c1edc0f4d"
      },
      "execution_count": null,
      "outputs": [
        {
          "output_type": "display_data",
          "data": {
            "text/plain": [
              "<Figure size 432x288 with 1 Axes>"
            ],
            "image/png": "[encoded data removed]"
          },
          "metadata": {
            "needs_background": "light"
          }
        }
      ]
    },
    {
      "cell_type": "code",
      "source": [
        "model.evaluate(X_test, y_test)"
      ],
      "metadata": {
        "id": "WszuKaYBWSOb",
        "outputId": "4bd7b16d-956e-4696-8373-7be1b91ac2bc",
        "colab": {
          "base_uri": "https://localhost:8080/"
        }
      },
      "execution_count": null,
      "outputs": [
        {
          "output_type": "stream",
          "name": "stdout",
          "text": [
            "4/4 [==============================] - 0s 3ms/step - loss: 0.3115 - accuracy: 0.9175\n"
          ]
        },
        {
          "output_type": "execute_result",
          "data": {
            "text/plain": [
              "[0.3114861845970154, 0.9175257682800293]"
            ]
          },
          "metadata": {},
          "execution_count": 54
        }
      ]
    },
    {
      "cell_type": "code",
      "source": [
        "y_pred = model.predict(X_test)\n",
        "y_pred = y_pred.flatten()\n",
        "for i in range(97):\n",
        "  if(y_pred[i] > 0.5):\n",
        "    y_pred[i] = 1\n",
        "  else:\n",
        "    y_pred[i] = 0\n",
        "\n",
        "cnf_matrix = metrics.confusion_matrix(y_test, y_pred)\n",
        "cnf_matrix\n",
        "\n",
        "confusion_matrix = pd.crosstab(y_pred, y_test, rownames=['Prediction'], colnames=['Reference'])\n",
        "print(confusion_matrix, end='\\n\\n')\n",
        "print('Accuracy Score :',accuracy_score(y_test, y_pred), end='\\n\\n')\n",
        "print('Classification Report : ')\n",
        "print(classification_report(y_test, y_pred))\n",
        "\n",
        "# Confusion Matrix in heatmap format\n",
        "pred = []\n",
        "for i in range(len(X_test)):\n",
        "  if(model.predict(X_test.iloc[i].to_numpy().reshape(1,49)) > 0.5):\n",
        "    pred.append(1)\n",
        "  else:\n",
        "    pred.append(0)\n",
        "cnf_matrix1 = metrics.confusion_matrix(y_test, pred)\n",
        "cnf_matrix1\n",
        "\n",
        "class_names=[0,1] # name  of classes\n",
        "fig, ax = plt.subplots()\n",
        "tick_marks = np.arange(len(class_names))\n",
        "plt.xticks(tick_marks, class_names)\n",
        "plt.yticks(tick_marks, class_names)\n",
        "\n",
        "# Create heatmap\n",
        "print()\n",
        "sns.heatmap(pd.DataFrame(cnf_matrix1), annot=True, cmap=\"YlGnBu\" ,fmt='g')\n",
        "ax.xaxis.set_label_position(\"top\")\n",
        "plt.tight_layout()\n",
        "plt.title('Confusion matrix', y=1.1)\n",
        "plt.ylabel('Actual label')\n",
        "plt.xlabel('Predicted label')"
      ],
      "metadata": {
        "colab": {
          "base_uri": "https://localhost:8080/",
          "height": 707
        },
        "id": "UUFzAfbsKfyN",
        "outputId": "8726ad58-1605-4861-dd47-e73129a7f67a"
      },
      "execution_count": null,
      "outputs": [
        {
          "output_type": "stream",
          "name": "stdout",
          "text": [
            "WARNING:tensorflow:Model was constructed with shape (None, None, 49) for input KerasTensor(type_spec=TensorSpec(shape=(None, None, 49), dtype=tf.float32, name='dense_8_input'), name='dense_8_input', description=\"created by layer 'dense_8_input'\"), but it was called on an input with incompatible shape (None, 49).\n",
            "Reference   0   1\n",
            "Prediction       \n",
            "0.0         8   1\n",
            "1.0         7  81\n",
            "\n",
            "Accuracy Score : 0.9175257731958762\n",
            "\n",
            "Classification Report : \n",
            "              precision    recall  f1-score   support\n",
            "\n",
            "           0       0.89      0.53      0.67        15\n",
            "           1       0.92      0.99      0.95        82\n",
            "\n",
            "    accuracy                           0.92        97\n",
            "   macro avg       0.90      0.76      0.81        97\n",
            "weighted avg       0.92      0.92      0.91        97\n",
            "\n",
            "\n"
          ]
        },
        {
          "output_type": "execute_result",
          "data": {
            "text/plain": [
              "Text(0.5, 257.44, 'Predicted label')"
            ]
          },
          "metadata": {},
          "execution_count": 55
        },
        {
          "output_type": "display_data",
          "data": {
            "text/plain": [
              "<Figure size 432x288 with 2 Axes>"
            ],
            "image/png": "[encoded data removed]"
          },
          "metadata": {
            "needs_background": "light"
          }
        }
      ]
    }
  ]
}